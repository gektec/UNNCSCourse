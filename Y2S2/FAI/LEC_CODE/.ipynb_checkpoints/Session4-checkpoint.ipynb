{
 "cells": [
  {
   "cell_type": "code",
   "execution_count": 1,
   "metadata": {},
   "outputs": [],
   "source": [
    "import math\n",
    "from collections import deque\n",
    "from itertools import combinations\n",
    "import heapq"
   ]
  },
  {
   "cell_type": "markdown",
   "metadata": {},
   "source": [
    "## Formulate a pour water problem"
   ]
  },
  {
   "cell_type": "code",
   "execution_count": 2,
   "metadata": {},
   "outputs": [],
   "source": [
    "class PourProblem(object):\n",
    "    \n",
    "    def __init__(self, initial=None, goal=None, sizes=None):\n",
    "        self.initial = initial\n",
    "        self.goal = goal\n",
    "        self.sizes = sizes\n",
    "\n",
    "    def actions(self, state):\n",
    "        buckets = range(len(state)) \n",
    "        return ([('Fill', i)    for i in buckets if state[i] < self.sizes[i]] +        \n",
    "                [('Pour', i, j) for i in buckets if state[i] for j in buckets if i != j]) \n",
    "    \n",
    "    def result(self, state, action):   \n",
    "        result = list(state)\n",
    "        act, i, *_ = action # action[0] = act, action[1]=i, action[2] = j (not all actions contains j)\n",
    "       \n",
    "        if act == 'Fill':  # Fill i to capacity\n",
    "            result[i] = self.sizes[i]\n",
    "        elif act == 'Pour': # Pour from i into j\n",
    "            j = action[2]\n",
    "            amount = min(state[i], self.sizes[j] - state[j]) \n",
    "            result[i] -= amount\n",
    "            result[j] += amount\n",
    "        return tuple(result)\n",
    "\n",
    "    def is_goal(self, state):\n",
    "        return self.goal in state\n",
    "    \n",
    "    def action_cost(self, start_state, action, end_state): \n",
    "        return 1"
   ]
  },
  {
   "cell_type": "code",
   "execution_count": 3,
   "metadata": {},
   "outputs": [],
   "source": [
    "p1 = PourProblem((0,0,0),7,(3,5,9))"
   ]
  },
  {
   "cell_type": "markdown",
   "metadata": {},
   "source": [
    "## Formulat an EightPuzzel Game problem"
   ]
  },
  {
   "cell_type": "code",
   "execution_count": 4,
   "metadata": {},
   "outputs": [],
   "source": [
    "class EightPuzzle(object):\n",
    "    \"\"\" The problem of sliding tiles numbered from 1 to 8 on a 3x3 board,\n",
    "    where one of the squares is a blank, trying to reach a goal configuration.\n",
    "    A board state is represented as a tuple of length 9, where the element at index i \n",
    "    represents the tile number at index i, or 0 if for the empty square, e.g. the goal:\n",
    "        1 2 3\n",
    "        4 5 6 ==> (1, 2, 3, 4, 5, 6, 7, 8, 0)\n",
    "        7 8 _\n",
    "    \"\"\"\n",
    "    def __init__(self, initial=None, goal=(0, 1, 2, 3, 4, 5, 6, 7, 8)):\n",
    "        \"\"\"The constructor specifies the initial state = None, and the default goal\n",
    "        state= (0,1,2,3,4,5,6,7,8). Both initial and goal states can be modify by users \n",
    "        through arguments 'initial' and 'goal'\"\"\"\n",
    "        assert inversions(initial) % 2 == inversions(goal) % 2 # Parity check, assert expression => if not expression: raise AssertionError\n",
    "        self.initial = initial\n",
    "        self.goal = goal\n",
    "    \n",
    "    def actions(self, state):\n",
    "        \"\"\"The indexes of the squares that the blank can move to.\"\"\"\n",
    "        moves = ((1, 3),    (0, 2, 4),    (1, 5),\n",
    "                 (0, 4, 6), (1, 3, 5, 7), (2, 4, 8),\n",
    "                 (3, 7),    (4, 6, 8),    (7, 5))\n",
    "        blank = state.index(0)\n",
    "        return moves[blank]\n",
    "    \n",
    "    def result(self, state, action):\n",
    "        \"\"\"Swap the blank with the square numbered `action`.\"\"\"\n",
    "        s = list(state) #convert the state from tuple into list s\n",
    "        blank = state.index(0)\n",
    "        s[action], s[blank] = s[blank], s[action]\n",
    "        return tuple(s) #convert the state back into tuple\n",
    "    def is_goal(self, state): \n",
    "        \"\"\"Return True if the state is a goal. \"\"\"\n",
    "        return state == self.goal\n",
    "    \n",
    "    def action_cost(self, start_state, action, end_state): \n",
    "        return 1\n",
    "    \n",
    "    def h1(self, node):\n",
    "        \"\"\"The misplaced tiles heuristic.\"\"\"\n",
    "        return hamming_distance(node.state, self.goal)\n",
    "    \n",
    "    def h2(self, node):\n",
    "        \"\"\"The Manhattan heuristic.\"\"\"\n",
    "        X = (0, 1, 2, 0, 1, 2, 0, 1, 2) #x coordinate of goal state 0,1,2,3,4,5,6,7,8\n",
    "        Y = (0, 0, 0, 1, 1, 1, 2, 2, 2) #y coordinate of goal state 0,1,2,3,4,5,6,7,8\n",
    "        return sum(abs(X[s] - X[g]) + abs(Y[s] - Y[g])\n",
    "                   for (s, g) in zip(node.state, self.goal) if s != 0)\n",
    "    \n",
    "    def h(self, node): return self.h1(node) \n",
    "    \n",
    "def hamming_distance(A, B):\n",
    "    \"Number of positions where vectors A and B are different.\"\n",
    "    return sum(a != b for a, b in zip(A, B))\n",
    "    \n",
    "\n",
    "def inversions(board):\n",
    "    \"The number of times a piece is a smaller number than a following piece.\"\n",
    "    return sum((a > b and a != 0 and b != 0) for (a, b) in combinations(board, 2))\n",
    "    \n",
    "    \n",
    "def board8(board, fmt=(3 * '{} {} {}\\n')):\n",
    "    \"A string representing an 8-puzzle board\"\n",
    "    return fmt.format(*board).replace('0', '_') # *board => treat board as 9 arguments"
   ]
  },
  {
   "cell_type": "code",
   "execution_count": 5,
   "metadata": {},
   "outputs": [],
   "source": [
    "e1 = EightPuzzle((1, 4, 2, 0, 7, 5, 3, 6, 8))\n",
    "e2 = EightPuzzle((1, 2, 3, 4, 5, 6, 7, 8, 0))\n",
    "e3 = EightPuzzle((4, 0, 2, 5, 1, 3, 7, 8, 6))\n",
    "e4 = EightPuzzle((7, 2, 4, 5, 0, 6, 8, 3, 1))\n",
    "e5 = EightPuzzle((8, 6, 7, 2, 5, 4, 3, 0, 1))"
   ]
  },
  {
   "cell_type": "markdown",
   "metadata": {},
   "source": [
    "# 1. Define the node object used in the tree structure\n",
    " \n",
    "### Each node contains fields include:\n",
    "* **state**\n",
    "* **parent** node\n",
    "* **action** performed on to the current node\n",
    "* **path cost** from the initial node to the current node"
   ]
  },
  {
   "cell_type": "code",
   "execution_count": 6,
   "metadata": {},
   "outputs": [],
   "source": [
    "class Node:\n",
    "    \"A Node in a search tree.\"\n",
    "    def __init__(self, state, parent=None, action=None, path_cost=0): #here self defining the current node object\n",
    "        self.__dict__.update(state=state, parent=parent, action=action, path_cost=path_cost)\n",
    "    def __repr__(self): return '<{}>'.format(self.state) #print out format of node, <state name>\n",
    "    def __len__(self): return 0 if self.parent is None else (1 + len(self.parent)) #depth of node\n",
    "    def __lt__(self, other): return self.path_cost < other.path_cost #define the way of comparing two nodes.\n",
    "    \n",
    "    \n",
    "failure = Node('failure', path_cost=math.inf) # Indicates an algorithm couldn't find a solution. state = 'failure'\n",
    "cutoff  = Node('cutoff',  path_cost=math.inf) # Indicates iterative deepening search was cut off. state = 'cutoff\n",
    "    \n",
    "    "
   ]
  },
  {
   "cell_type": "markdown",
   "metadata": {},
   "source": [
    "# 2. Define the object that used to maintain frontier\n",
    "\n",
    "### There are different types of queneing function\n",
    "* First in First out => **BFS** => deque \n",
    "* First in Last out => **DFS** => list\n",
    "* Sort the elements w.r.t. different criteria => **UCS(Greedy search, A*)** => PriorityQueue"
   ]
  },
  {
   "cell_type": "code",
   "execution_count": 7,
   "metadata": {},
   "outputs": [],
   "source": [
    "FIFOQueue = deque # A list-like sequence optimized for data accesses near its end points.\n",
    "LIFOQueue = list #add to the right most, remove the right most\n",
    "\n",
    "class PriorityQueue: #used in best first search\n",
    "    \"\"\"A queue in which the item with minimum f(item) is always popped first.\"\"\"\n",
    "\n",
    "    def __init__(self, items=(), key=lambda x: x): \n",
    "        self.key = key\n",
    "        self.items = [] # a heap of (score, item) pairs\n",
    "        for item in items:\n",
    "            self.add(item)\n",
    "         \n",
    "    def add(self, item):\n",
    "        \"\"\"Add item to the queuez.\"\"\"\n",
    "        pair = (self.key(item), item) #pair is a tuple type\n",
    "        heapq.heappush(self.items, pair) #put the node to the sorted priority queue at the correct location w.r.t. value of key(item)\n",
    "\n",
    "    def pop(self):\n",
    "        \"\"\"Pop and return the item with min f(item) value.\"\"\"\n",
    "        return heapq.heappop(self.items)[1]\n",
    "    \n",
    "    def top(self): return self.items[0][1]\n",
    "\n",
    "    def __len__(self): return len(self.items)\n",
    "    "
   ]
  },
  {
   "cell_type": "markdown",
   "metadata": {},
   "source": [
    "# 3. Fundamental actions \n",
    "\n",
    "* ### `Expand` : Ask a node for its children \n",
    "    1. Get node's state `s`\n",
    "    2. Find the posible legal actions can be performed on the `s` with `problem.actions(s)`\n",
    "    3. Find all the resulting states `s1` with `problem.result(s,action)`, and update their accumulated path cost `cost` by add `problem.action_cost(s, action, s1)`\n",
    "    4. Generate children nodes with:\n",
    "        * node state = s1\n",
    "        * parent node = node\n",
    "        * action = current action\n",
    "        * path cost = up to now path cost\n",
    "    \n",
    "* ###  `Test` : Test a node to see whether it is a goal using `problem.is_goal(s)` "
   ]
  },
  {
   "cell_type": "code",
   "execution_count": 8,
   "metadata": {},
   "outputs": [],
   "source": [
    "def expand(problem, node):\n",
    "    \"Expand a node, generating the children nodes.\"\n",
    "    s = node.state\n",
    "    for action in problem.actions(s): #problem.actions(s) return all the possible actions on state\n",
    "        s1 = problem.result(s, action)\n",
    "        cost = node.path_cost + problem.action_cost(s, action, s1)\n",
    "        yield Node(s1, node, action, cost) #(yield)can be viewed as generator, expand node will yield several nodes (neighbours/frontier) reachable from the current node"
   ]
  },
  {
   "cell_type": "markdown",
   "metadata": {},
   "source": [
    "# 4. Seach algorithms\n",
    "### General tree search\n",
    "    frontier = Make-Queue(Make-Node(Initial-State[p])) \n",
    "    Loop do \n",
    "        If frontier is empty then return failure \n",
    "        node = Remove-Front(frontier) \n",
    "        If Goal-Test[p] on State(node) succeeds then return node \n",
    "        frontier = QUEUING-FN(frontier, (Expand(node, Actions[p]))\n",
    "    End\n",
    "    \n",
    "### Implementation based on general search with different queueing functions\n",
    "\n",
    "    * BFS (FIFOQueue)\n",
    "    * DFS (LIFOQueue) \n",
    "    * UCS , Greedy and A* (PriorityQueue) "
   ]
  },
  {
   "cell_type": "code",
   "execution_count": 9,
   "metadata": {},
   "outputs": [],
   "source": [
    "def breadth_first_tree_search(problem): \n",
    "    \"Search shallowest nodes in the search tree first.\"\n",
    "    node = Node(problem.initial) # initialize the tree by put problem's initial state into a node object\n",
    "    frontier = FIFOQueue([node]) # put the root node object into the frontier (fifo queue structure)\n",
    "    while frontier: #if frontier is not empty\n",
    "        node = frontier.pop() #remove and return the right most element => front\n",
    "        if problem.is_goal(node.state): # test if the node contains the goal state\n",
    "            return node # return the goal node and exit the while loop\n",
    "        for child in expand(problem, node):\n",
    "            frontier.appendleft(child) # add to the left most => tail\n",
    "    return failure\n",
    "\n",
    "def depth_first_tree_search(problem):\n",
    "    \"Search deepest nodes in the search tree first.\"\n",
    "    node = Node(problem.initial)\n",
    "    frontier = LIFOQueue([node])\n",
    "    while frontier:\n",
    "        node = frontier.pop() #remove the right most element\n",
    "        if problem.is_goal(node.state):\n",
    "            return node\n",
    "        for child in expand(problem, node):\n",
    "            frontier.append(child)\n",
    "    return failure\n",
    "\n",
    "def best_first_tree_search(problem, f):\n",
    "    \"A version of best_first_search without the `reached` table.\"\n",
    "    node=Node(problem.initial)\n",
    "    frontier = PriorityQueue([node], key=f)\n",
    "    while frontier:\n",
    "        node = frontier.pop()\n",
    "        if problem.is_goal(node.state):\n",
    "            return node\n",
    "        for child in expand(problem, node):\n",
    "            if not is_cycle(child):\n",
    "                frontier.add(child)\n",
    "    return failure\n",
    "\n",
    "def g(n): return n.path_cost    \n",
    "\n",
    "def is_cycle(node, k=30):\n",
    "    \"Does this node form a cycle of length k or less?\"\n",
    "    def find_cycle(ancestor, k):\n",
    "        return (ancestor is not None and k > 0 and\n",
    "                (ancestor.state == node.state or find_cycle(ancestor.parent, k - 1)))\n",
    "    return find_cycle(node.parent, k)\n",
    "\n",
    "def uniform_cost_search(problem):\n",
    "    \"Search nodes with minimum path cost first.\"\n",
    "    return best_first_tree_search(problem, f=g)\n",
    "\n",
    "def astar_tree_search(problem, h=None):\n",
    "    \"\"\"Search nodes with minimum f(n) = g(n) + h(n), with no `reached` table.\"\"\"\n",
    "    h = h or problem.h # if h=None, h = problem.h, otherwise, h=h\n",
    "    return best_first_tree_search(problem, f=lambda n: g(n) + h(n)) #n is input, g(n)+h(n) is returned value of lambda function f \n",
    "\n"
   ]
  },
  {
   "cell_type": "markdown",
   "metadata": {},
   "source": [
    "# 5. Find out the solution by tracing back to the ROOT"
   ]
  },
  {
   "cell_type": "code",
   "execution_count": 10,
   "metadata": {},
   "outputs": [],
   "source": [
    "def path_actions(node):\n",
    "    \"The sequence of actions to get to this node.\" #solution\n",
    "    if node.parent is None:\n",
    "        return []  \n",
    "    return path_actions(node.parent) + [node.action] #list of actions from current node to root node\n",
    "\n",
    "def path_states(node):\n",
    "    \"The sequence of states to get to this node.\"\n",
    "    if node in (failure, None): \n",
    "        return []\n",
    "    return path_states(node.parent) + [node.state] #list of states from current node to root node"
   ]
  },
  {
   "cell_type": "markdown",
   "metadata": {},
   "source": [
    "## 6. Solve the two problems with different search algorithms"
   ]
  },
  {
   "cell_type": "code",
   "execution_count": 11,
   "metadata": {
    "scrolled": true
   },
   "outputs": [
    {
     "data": {
      "text/plain": [
       "[('Fill', 0), ('Fill', 2), ('Pour', 0, 1), ('Pour', 2, 1)]"
      ]
     },
     "execution_count": 11,
     "metadata": {},
     "output_type": "execute_result"
    }
   ],
   "source": [
    "solu=breadth_first_tree_search(p1)\n",
    "path_actions(solu)"
   ]
  },
  {
   "cell_type": "code",
   "execution_count": 12,
   "metadata": {},
   "outputs": [
    {
     "name": "stdout",
     "output_type": "stream",
     "text": [
      "1 4 2\n",
      "_ 7 5\n",
      "3 6 8\n",
      "\n",
      "1 4 2\n",
      "3 7 5\n",
      "_ 6 8\n",
      "\n",
      "1 4 2\n",
      "3 7 5\n",
      "6 _ 8\n",
      "\n",
      "1 4 2\n",
      "3 _ 5\n",
      "6 7 8\n",
      "\n",
      "1 _ 2\n",
      "3 4 5\n",
      "6 7 8\n",
      "\n",
      "_ 1 2\n",
      "3 4 5\n",
      "6 7 8\n",
      "\n"
     ]
    }
   ],
   "source": [
    "for s in path_states(astar_tree_search(e1)):\n",
    "    print(board8(s))"
   ]
  },
  {
   "cell_type": "code",
   "execution_count": null,
   "metadata": {},
   "outputs": [],
   "source": []
  },
  {
   "cell_type": "code",
   "execution_count": null,
   "metadata": {},
   "outputs": [],
   "source": []
  }
 ],
 "metadata": {
  "kernelspec": {
   "display_name": "Python 3 (ipykernel)",
   "language": "python",
   "name": "python3"
  },
  "language_info": {
   "codemirror_mode": {
    "name": "ipython",
    "version": 3
   },
   "file_extension": ".py",
   "mimetype": "text/x-python",
   "name": "python",
   "nbconvert_exporter": "python",
   "pygments_lexer": "ipython3",
   "version": "3.10.9"
  }
 },
 "nbformat": 4,
 "nbformat_minor": 4
}
