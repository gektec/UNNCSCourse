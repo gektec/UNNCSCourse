{
 "cells": [
  {
   "cell_type": "code",
   "execution_count": 2,
   "metadata": {},
   "outputs": [],
   "source": [
    "import math\n",
    "from collections import deque"
   ]
  },
  {
   "cell_type": "markdown",
   "metadata": {},
   "source": [
    "# 1. Define the node object used in the tree structure\n",
    " \n",
    "### Each node contains fields include:\n",
    "* **state**\n",
    "* **parent** node\n",
    "* **action** performed on to the current node\n",
    "* **path cost** from the initial node to the current node"
   ]
  },
  {
   "cell_type": "code",
   "execution_count": 3,
   "metadata": {},
   "outputs": [],
   "source": [
    "class Node:\n",
    "    \"A Node in a search tree.\"\n",
    "    \n",
    "    #here self defining the current node object\n",
    "    def __init__(self, state, parent=None, action=None, path_cost=0): \n",
    "        self.__dict__.update(state=state, parent=parent, action=action, path_cost=path_cost)\n",
    "        \n",
    "    #print out format of node, <state name>\n",
    "    def __repr__(self): \n",
    "        return '<{}>'.format(self.state) \n",
    "\n",
    "# Indicates an algorithm couldn't find a solution. state = 'failure'\n",
    "failure = Node('failure', path_cost=math.inf) "
   ]
  },
  {
   "cell_type": "code",
   "execution_count": 8,
   "metadata": {},
   "outputs": [
    {
     "name": "stdout",
     "output_type": "stream",
     "text": [
      "<class '__main__.Node'>\n",
      "<failure>\n"
     ]
    }
   ],
   "source": [
    "print(type(failure))\n",
    "print(failure)"
   ]
  },
  {
   "cell_type": "markdown",
   "metadata": {},
   "source": [
    "# 2. Define the object that used to maintain frontier\n",
    "\n",
    "### There are different types of queneing function\n",
    "* First in First out => **BFS** => deque \n",
    "* First in Last out => **DFS** => list\n",
    "* Sort the elements w.r.t. different criteria => **UCS(Greedy search, A*)** => PriorityQueue"
   ]
  },
  {
   "cell_type": "code",
   "execution_count": 5,
   "metadata": {},
   "outputs": [],
   "source": [
    "# A list-like sequence optimized for data accesses near its end points.\n",
    "FIFOQueue = deque\n",
    "\n",
    "# add to the right most, remove the right most\n",
    "LIFOQueue = list "
   ]
  },
  {
   "cell_type": "markdown",
   "metadata": {},
   "source": [
    "# 3. Fundamental actions \n",
    "\n",
    "* ### `Expand` : Ask a node for its children \n",
    "    1. Get node's state `s`\n",
    "    2. Find the posible legal actions can be performed on the `s` with `problem.actions(s)`\n",
    "    3. Find all the resulting states `s1` with `problem.result(s,action)`, and update their accumulated path cost `cost` by add `problem.action_cost(s, action, s1)`\n",
    "    4. Generate children nodes with:\n",
    "        * node state = s1\n",
    "        * parent node = node\n",
    "        * action = current action\n",
    "        * path cost = up to now path cost\n",
    "    \n",
    "* ###  `Test` : Test a node to see whether it is a goal using `problem.is_goal(s)` "
   ]
  },
  {
   "cell_type": "code",
   "execution_count": 6,
   "metadata": {},
   "outputs": [],
   "source": [
    "def expand(problem, node):\n",
    "    \"Expand a node, generating the children nodes.\"\n",
    "    s = node.state\n",
    "    for action in problem.actions(s): \n",
    "        # problem.actions(s) return all the possible actions on state\n",
    "        s1 = problem.result(s, action)\n",
    "        cost = node.path_cost + problem.action_cost(s, action, s1)\n",
    "        yield Node(s1, node, action, cost) \n",
    "        #(yield)can be viewed as generator, expand node will yield several nodes (neighbours/frontier) reachable from the current node"
   ]
  },
  {
   "cell_type": "markdown",
   "metadata": {},
   "source": [
    "# 4. Seach algorithms\n",
    "### General tree search\n",
    "    frontier = Make-Queue(Make-Node(Initial-State[p])) \n",
    "    Loop do \n",
    "        If frontier is empty then return failure \n",
    "        node = Remove-Front(frontier) \n",
    "        If Goal-Test[p] on State(node) succeeds then return node \n",
    "        frontier = QUEUING-FN(frontier, (Expand(node, Actions[p]))\n",
    "    End\n",
    "    \n",
    "### Implementation based on general search with different queueing functions\n",
    "\n",
    "    * BFS (FIFOQueue)\n",
    "    * DFS (LIFOQueue) \n",
    "    * UCS (PriorityQueue) "
   ]
  },
  {
   "cell_type": "code",
   "execution_count": 7,
   "metadata": {},
   "outputs": [],
   "source": [
    "def breadth_first_tree_search(problem): \n",
    "    \n",
    "    \"Search shallowest nodes in the search tree first.\"\n",
    "    node = Node(problem.initial)   # initialize the tree by put problem's initial state into a node object\n",
    "    frontier = FIFOQueue([node])   # put the root node object into the frontier (fifo queue structure)\n",
    "    \n",
    "    #if frontier is not empty\n",
    "    while frontier:\n",
    "        node = frontier.pop()      #remove and return the right most element => front\n",
    "        \n",
    "        # test if the node contains the goal state\n",
    "        if problem.is_goal(node.state): \n",
    "            return node \n",
    "        \n",
    "        for child in expand(problem, node):\n",
    "            frontier.appendleft(child) # add to the left most => tail\n",
    "\n",
    "    return failure\n",
    "\n",
    "def depth_first_tree_search(problem):\n",
    "    \n",
    "    \"Search deepest nodes in the search tree first.\"\n",
    "    node = Node(problem.initial)\n",
    "    frontier = LIFOQueue([node])\n",
    "    while frontier:\n",
    "        node = frontier.pop() #remove the right most element\n",
    "        if problem.is_goal(node.state):\n",
    "            return node\n",
    "        for child in expand(problem, node):\n",
    "            frontier.append(child)\n",
    "    return failure"
   ]
  },
  {
   "cell_type": "markdown",
   "metadata": {},
   "source": [
    "# 5. Find out the solution by tracing back to the ROOT"
   ]
  },
  {
   "cell_type": "code",
   "execution_count": 8,
   "metadata": {},
   "outputs": [],
   "source": [
    "def path_actions(node):\n",
    "    \"The sequence of actions to get to this node.\" #solution\n",
    "    if node.parent is None:\n",
    "        return []  \n",
    "    return path_actions(node.parent) + [node.action] #list of actions from current node to root node\n",
    "\n",
    "def path_states(node):\n",
    "    \"The sequence of states to get to this node.\"\n",
    "    if node in (failure, None): \n",
    "        return []\n",
    "    return path_states(node.parent) + [node.state] #list of states from current node to root node"
   ]
  },
  {
   "cell_type": "code",
   "execution_count": 9,
   "metadata": {
    "scrolled": true
   },
   "outputs": [
    {
     "data": {
      "text/plain": [
       "<(0, 5, 7)>"
      ]
     },
     "execution_count": 9,
     "metadata": {},
     "output_type": "execute_result"
    }
   ],
   "source": [
    "breadth_first_tree_search(p1)"
   ]
  }
 ],
 "metadata": {
  "kernelspec": {
   "display_name": "Python 3 (ipykernel)",
   "language": "python",
   "name": "python3"
  },
  "language_info": {
   "codemirror_mode": {
    "name": "ipython",
    "version": 3
   },
   "file_extension": ".py",
   "mimetype": "text/x-python",
   "name": "python",
   "nbconvert_exporter": "python",
   "pygments_lexer": "ipython3",
   "version": "3.10.9"
  }
 },
 "nbformat": 4,
 "nbformat_minor": 4
}
