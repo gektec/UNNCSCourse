{
 "cells": [
  {
   "cell_type": "code",
   "execution_count": 1,
   "metadata": {},
   "outputs": [],
   "source": [
    "class PourProblem(object):\n",
    "    \n",
    "    def __init__(self, initial=None, goal=None, sizes=None):\n",
    "        self.initial = initial\n",
    "        self.goal = goal\n",
    "        self.sizes = sizes\n",
    "\n",
    "    def actions(self, state):\n",
    "        buckets = range(len(state)) \n",
    "        return ([('Fill', i)    for i in buckets if state[i] < self.sizes[i]] +   \n",
    "                [('Pour', i, j) for i in buckets if state[i] for j in buckets if i != j])\n",
    "\n",
    "    \n",
    "    def result(self, state, action):   \n",
    "        result = list(state)\n",
    "        act, i, *_ = action\n",
    "       \n",
    "        if act == 'Fill': \n",
    "            result[i] = self.sizes[i]\n",
    "        elif act == 'Pour':\n",
    "            j = action[2]\n",
    "            amount = min(state[i], self.sizes[j] - state[j])\n",
    "            result[i] -= amount\n",
    "            result[j] += amount\n",
    "        return tuple(result)\n",
    "\n",
    "    def is_goal(self, state):\n",
    "        return self.goal in state\n",
    "    \n",
    "    def action_cost(self, start_state, action, end_state): \n",
    "        return 1"
   ]
  },
  {
   "cell_type": "code",
   "execution_count": 3,
   "metadata": {},
   "outputs": [],
   "source": [
    "p1 = PourProblem((0,0,0),7,(3,5,9))"
   ]
  },
  {
   "cell_type": "code",
   "execution_count": 13,
   "metadata": {},
   "outputs": [
    {
     "ename": "AttributeError",
     "evalue": "'PourProblem' object has no attribute 'state'",
     "output_type": "error",
     "traceback": [
      "\u001b[0;31m---------------------------------------------------------------------------\u001b[0m",
      "\u001b[0;31mAttributeError\u001b[0m                            Traceback (most recent call last)",
      "Cell \u001b[0;32mIn[13], line 1\u001b[0m\n\u001b[0;32m----> 1\u001b[0m \u001b[38;5;28mtype\u001b[39m(\u001b[43mp1\u001b[49m\u001b[38;5;241;43m.\u001b[39;49m\u001b[43mstate\u001b[49m)\n",
      "\u001b[0;31mAttributeError\u001b[0m: 'PourProblem' object has no attribute 'state'"
     ]
    }
   ],
   "source": [
    "type(p1.state)\n"
   ]
  },
  {
   "cell_type": "code",
   "execution_count": 2,
   "metadata": {},
   "outputs": [],
   "source": [
    "class EightPuzzle(object):\n",
    "\n",
    "    def __init__(self, initial=None, goal=(0, 1, 2, 3, 4, 5, 6, 7, 8)):\n",
    "        self.initial = initial\n",
    "        self.goal = goal\n",
    "    \n",
    "    def actions(self, state):\n",
    "        moves = ((1, 3),    (0, 2, 4),    (1, 5),\n",
    "                 (0, 4, 6), (1, 3, 5, 7), (2, 4, 8),\n",
    "                 (3, 7),    (4, 6, 8),    (7, 5))\n",
    "        blank = state.index(0)\n",
    "        return moves[blank]\n",
    "    \n",
    "    def result(self, state, action):\n",
    "        s = list(state) \n",
    "        blank = state.index(0)\n",
    "        s[action], s[blank] = s[blank], s[action]\n",
    "        return tuple(s) \n",
    "\n",
    "    def is_goal(self, state):        \n",
    "        return state == self.goal\n",
    "    \n",
    "    def action_cost(self, start_state, action, end_state): \n",
    "        return 1\n",
    "    \n",
    "def board8(board, fmt=(3 * '{} {} {}\\n')):\n",
    "    \"A string representing an 8-puzzle board\"\n",
    "    return fmt.format(*board).replace('0', '_')"
   ]
  },
  {
   "cell_type": "code",
   "execution_count": 3,
   "metadata": {},
   "outputs": [],
   "source": [
    "s = (0,1,2,3,4,5,6,7,8,9)"
   ]
  },
  {
   "cell_type": "code",
   "execution_count": 4,
   "metadata": {},
   "outputs": [
    {
     "name": "stdout",
     "output_type": "stream",
     "text": [
      "_ 1 2\n",
      "3 4 5\n",
      "6 7 8\n",
      "\n"
     ]
    }
   ],
   "source": [
    "print(board8(s))"
   ]
  },
  {
   "cell_type": "code",
   "execution_count": null,
   "metadata": {},
   "outputs": [],
   "source": []
  }
 ],
 "metadata": {
  "kernelspec": {
   "display_name": "Python 3 (ipykernel)",
   "language": "python",
   "name": "python3"
  },
  "language_info": {
   "codemirror_mode": {
    "name": "ipython",
    "version": 3
   },
   "file_extension": ".py",
   "mimetype": "text/x-python",
   "name": "python",
   "nbconvert_exporter": "python",
   "pygments_lexer": "ipython3",
   "version": "3.10.9"
  },
  "vscode": {
   "interpreter": {
    "hash": "dde97a0d7b4dffb93840ccc56dcf43550da9922025bf87d8337120f08a78fc21"
   }
  }
 },
 "nbformat": 4,
 "nbformat_minor": 4
}
