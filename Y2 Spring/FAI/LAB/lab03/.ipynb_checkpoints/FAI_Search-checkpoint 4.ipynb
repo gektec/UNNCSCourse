{
 "cells": [
  {
   "cell_type": "markdown",
   "metadata": {},
   "source": [
    "# Search Lab\n",
    "\n",
    "Implementation of search algorithms and search problems for AIMA. \n",
    "\n",
    "\n",
    "## CONTENTS\n",
    "\n",
    "* Overview\n",
    "* Route Finding Problem\n",
    "* 8 Puzzle Problems\n",
    "* Algorithm Comparison and plotting\n",
    "\n",
    "\n",
    "## OVERVIEW\n",
    "\n",
    "Here, we learn about a specific kind of problem solving - building goal-based agents that can plan ahead to solve problems. In particular, we examine navigation problem/route finding problem. We must begin by precisely defining **problems** and their **solutions**. We will look at several general-purpose search algorithms.\n",
    "\n",
    "Search algorithms can be classified into two types:\n",
    "\n",
    "* **Uninformed search algorithms**: Search algorithms which explore the search space without having any information about the problem other than its definition.\n",
    "    * Examples:\n",
    "        1. Breadth First tree Search\n",
    "        2. Depth First tree Search\n",
    "        3. Depth Limited tree Search\n",
    "\n",
    "\n",
    "* **Informed search algorithms**: These type of algorithms leverage any information (heuristics, path cost) on the problem to search through the search space to find the solution efficiently.\n",
    "    * Examples:\n",
    "        1. Best First Search\n",
    "        2. Uniform Cost Search\n",
    "        3. A\\* Search\n",
    "\n",
    "This notebook uses implementations from `searchFAI.py` module. Let's start by importing everything from search module."
   ]
  },
  {
   "cell_type": "code",
   "execution_count": 1,
   "metadata": {},
   "outputs": [],
   "source": [
    "from searchFAI import *"
   ]
  },
  {
   "cell_type": "markdown",
   "metadata": {},
   "source": [
    "## PROBLEM and Node\n",
    "\n",
    "Let's see how we define a Problem and Node. Please open `searchFAI.py` to see how abstract class `Problem` and `Node` is defined in the search module."
   ]
  },
  {
   "cell_type": "markdown",
   "metadata": {},
   "source": [
    "# Problem Domains\n",
    "\n",
    "Now we turn our attention to defining some problem domains as subclasses of `Problem`."
   ]
  },
  {
   "cell_type": "markdown",
   "metadata": {},
   "source": [
    "# Route Finding Problems\n",
    "\n",
    " <img style=\"float: centre;\" src=\"romania.jpg\" width=\"80%\"> \n",
    "\n",
    "In a `RouteProblem`, the states are names of \"cities\" (or other locations), like `'A'` for Arad. The actions are also city names; `'Z'` is the action to move to city `'Z'`. The layout of cities is given by a separate data structure, a `Map`, which is a graph where there are vertexes (cities), links between vertexes, distances (costs) of those links (if not specified, the default is 1 for every link), and optionally the 2D (x, y) location of each city can be specified. A `RouteProblem` takes this `Map` as input and allows actions to move between linked cities. The default heuristic is straight-line distance to the goal, or is uniformly zero if locations were not given."
   ]
  },
  {
   "cell_type": "code",
   "execution_count": 2,
   "metadata": {},
   "outputs": [],
   "source": [
    "class Map:\n",
    "    \"\"\"A map of places in a 2D world: a graph with vertexes and links between them. \n",
    "    In `Map(links, locations)`, `links` can be either [(v1, v2)...] pairs, \n",
    "    or a {(v1, v2): distance...} dict. Optional `locations` can be {v1: (x, y)} \n",
    "    If `directed=False` then for every (v1, v2) link, we add a (v2, v1) link.\"\"\"\n",
    "\n",
    "    def __init__(self, links, locations=None, directed=False):\n",
    "        if not hasattr(links, 'items'): # Distances are 1 by default\n",
    "            links = {link: 1 for link in links}\n",
    "        if not directed:\n",
    "            for (v1, v2) in list(links):\n",
    "                links[v2, v1] = links[v1, v2]\n",
    "        self.distances = links\n",
    "        self.neighbors = multimap(links)\n",
    "        self.locations = locations or defaultdict(lambda: (0, 0)) #set (0,0) as the default location if argument locations is None\n",
    "\n",
    "        \n",
    "def multimap(pairs) -> dict: # '-> dict' means returned value is a dictionary type\n",
    "    \"Given (key, val) pairs, make a dict of {key: [val,...]}.\"\n",
    "    result = defaultdict(list)\n",
    "    for key0, key1 in pairs: #for every key(type=>tuple) in pairs\n",
    "        result[key0].append(key1)\n",
    "    return result"
   ]
  },
  {
   "cell_type": "code",
   "execution_count": 3,
   "metadata": {},
   "outputs": [],
   "source": [
    "class RouteProblem(Problem):\n",
    "    \"\"\"A problem to find a route between locations on a `Map`.\n",
    "    Create a problem with RouteProblem(start, goal, map=Map(...)}).\n",
    "    States are the vertexes in the Map graph; actions are destination states.\"\"\"\n",
    "    \n",
    "    def actions(self, state): \n",
    "        \"\"\"The places neighboring `state`.\"\"\"\n",
    "        return self.map.neighbors[state] \n",
    "    \n",
    "    def result(self, state, action):\n",
    "        \"\"\"Go to the `action` place, if the map says that is possible.\"\"\"\n",
    "        return action if action in self.map.neighbors[state] else state #go to the neibour city or stay at the current city\n",
    "    \n",
    "    def action_cost(self, s, action, s1):\n",
    "        \"\"\"The distance (cost) to go from s to s1.\"\"\"\n",
    "        return self.map.distances[s, s1]\n",
    "    \n",
    "    def h(self, node):\n",
    "        \"Straight-line distance between state and the goal.\"\n",
    "        locs = self.map.locations\n",
    "        return straight_line_distance(locs[node.state], locs[self.goal])\n",
    "    \n",
    "    \n",
    "def straight_line_distance(A, B):\n",
    "    \"Straight-line distance between two points.\"\n",
    "    return sum(abs(a - b)**2 for (a, b) in zip(A, B)) ** 0.5"
   ]
  },
  {
   "cell_type": "code",
   "execution_count": 4,
   "metadata": {},
   "outputs": [],
   "source": [
    "# Some specific RouteProblems\n",
    "romania_links = {('O', 'Z'):  71, ('O', 'S'): 151, ('A', 'Z'): 75, ('A', 'S'): 140, ('A', 'T'): 118, \n",
    "     ('L', 'T'): 111, ('L', 'M'):  70, ('D', 'M'): 75, ('C', 'D'): 120, ('C', 'R'): 146, \n",
    "     ('C', 'P'): 138, ('R', 'S'):  80, ('F', 'S'): 99, ('B', 'F'): 211, ('B', 'P'): 101, \n",
    "     ('B', 'G'):  90, ('B', 'U'):  85, ('H', 'U'): 98, ('E', 'H'):  86, ('U', 'V'): 142, \n",
    "     ('I', 'V'):  92, ('I', 'N'):  87, ('P', 'R'): 97} #dictionary\n",
    "\n",
    "romania_link_same = [('O', 'Z'), ('O', 'S'), ('A', 'Z'), ('A', 'S'), ('A', 'T'), \n",
    "     ('L', 'T'), ('L', 'M'), ('D', 'M'), ('C', 'D'), ('C', 'R'), \n",
    "     ('C', 'P'), ('R', 'S'), ('F', 'S'), ('B', 'F'), ('B', 'P'), ('B', 'G'), ('B', 'U'), ('H', 'U'),\n",
    "     ('E', 'H'), ('U', 'V'), ('I', 'V'), ('I', 'N'), ('P', 'R')] # list, same_weighted_link\n",
    "\n",
    "romania_locations = {'A': ( 76, 497), 'B': (400, 327), 'C': (246, 285), 'D': (160, 296), 'E': (558, 294), \n",
    "     'F': (285, 460), 'G': (368, 257), 'H': (548, 355), 'I': (488, 535), 'L': (162, 379),\n",
    "     'M': (160, 343), 'N': (407, 561), 'O': (117, 580), 'P': (311, 372), 'R': (227, 412),\n",
    "     'S': (187, 463), 'T': ( 83, 414), 'U': (471, 363), 'V': (535, 473), 'Z': (92, 539)} #dictionary, values are the coordinate of each sity\n",
    "\n",
    "\n",
    "romania = Map(romania_links,romania_locations)\n",
    "\n",
    "r0 = RouteProblem('A', 'A', map=romania) #initial state = 'A', goal state = 'A'\n",
    "r1 = RouteProblem('A', 'B', map=romania) \n",
    "r2 = RouteProblem('N', 'L', map=romania)\n",
    "r3 = RouteProblem('E', 'T', map=romania)\n",
    "r4 = RouteProblem('S', 'R', map=romania)\n",
    "r5 = RouteProblem('S', 'B', map=romania)\n",
    "r6 = RouteProblem('S', 'F', map=romania)\n"
   ]
  },
  {
   "cell_type": "code",
   "execution_count": null,
   "metadata": {},
   "outputs": [],
   "source": []
  },
  {
   "cell_type": "code",
   "execution_count": 6,
   "metadata": {},
   "outputs": [
    {
     "data": {
      "text/plain": [
       "['A', 'S', 'R', 'P', 'B']"
      ]
     },
     "execution_count": 6,
     "metadata": {},
     "output_type": "execute_result"
    }
   ],
   "source": [
    "path_states(uniform_cost_search(r1)) # Lowest-cost path from Arab to Bucharest"
   ]
  },
  {
   "cell_type": "code",
   "execution_count": 7,
   "metadata": {},
   "outputs": [
    {
     "data": {
      "text/plain": [
       "['A', 'S', 'F', 'B']"
      ]
     },
     "execution_count": 7,
     "metadata": {},
     "output_type": "execute_result"
    }
   ],
   "source": [
    "path_states(breadth_first_tree_search(r1))"
   ]
  },
  {
   "cell_type": "code",
   "execution_count": 8,
   "metadata": {},
   "outputs": [
    {
     "data": {
      "text/plain": [
       "['A', 'T', 'L', 'M', 'D', 'C', 'P', 'B']"
      ]
     },
     "execution_count": 8,
     "metadata": {},
     "output_type": "execute_result"
    }
   ],
   "source": [
    "path_states(depth_first_tree_search(r1))"
   ]
  },
  {
   "cell_type": "code",
   "execution_count": 9,
   "metadata": {},
   "outputs": [
    {
     "data": {
      "text/plain": [
       "['A', 'S', 'R', 'P', 'B']"
      ]
     },
     "execution_count": 9,
     "metadata": {},
     "output_type": "execute_result"
    }
   ],
   "source": [
    "path_states(astar_tree_search(r1))"
   ]
  },
  {
   "cell_type": "code",
   "execution_count": 10,
   "metadata": {},
   "outputs": [
    {
     "data": {
      "text/plain": [
       "['S', 'R', 'P', 'B']"
      ]
     },
     "execution_count": 10,
     "metadata": {},
     "output_type": "execute_result"
    }
   ],
   "source": [
    "path_actions(astar_tree_search(r1))\n"
   ]
  },
  {
   "cell_type": "markdown",
   "metadata": {},
   "source": [
    "# 8 Puzzle Problems\n",
    "\n",
    "![](https://ece.uwaterloo.ca/~dwharder/aads/Algorithms/N_puzzles/images/puz3.png)\n",
    "\n",
    "A sliding tile puzzle where you can swap the blank with an adjacent piece, trying to reach a goal configuration. The cells are numbered 0 to 8, starting at the top left and going row by row left to right. The pieces are numebred 1 to 8, with 0 representing the blank. An action is the cell index number that is to be swapped with the blank (*not* the actual number to be swapped but the index into the state). So the diagram above left is the state `(5, 2, 7, 8, 4, 0, 1, 3, 6)`, and the action is `8`, because the cell number 8 (the 9th or last cell, the `6` in the bottom right) is swapped with the blank.\n",
    "\n",
    "**Note**: There are two disjoint sets of states that cannot be reached from each other. One set has an even number of \"inversions\"; the other has an odd number. An inversion is when a piece in the state is larger than a piece that follows it. Take for examples, the left diagram has **15** inversions, the right diagram has **17** inversions. "
   ]
  },
  {
   "cell_type": "code",
   "execution_count": 11,
   "metadata": {},
   "outputs": [],
   "source": [
    "class EightPuzzle(Problem):\n",
    "    \"\"\" The problem of sliding tiles numbered from 1 to 8 on a 3x3 board,\n",
    "    where one of the squares is a blank, trying to reach a goal configuration.\n",
    "    A board state is represented as a tuple of length 9, where the element at index i \n",
    "    represents the tile number at index i, or 0 if for the empty square, e.g. the goal:\n",
    "        1 2 3\n",
    "        4 5 6 ==> (1, 2, 3, 4, 5, 6, 7, 8, 0)\n",
    "        7 8 _\n",
    "    \"\"\"\n",
    "\n",
    "    def __init__(self, initial, goal=(0, 1, 2, 3, 4, 5, 6, 7, 8)):\n",
    "        assert inversions(initial) % 2 == inversions(goal) % 2 # Parity check, assert expression => if not expression: raise AssertionError\n",
    "        self.initial, self.goal = initial, goal\n",
    "    \n",
    "    def actions(self, state):\n",
    "        \"\"\"The indexes of the squares that the blank can move to.\"\"\"\n",
    "        moves = ((1, 3),    (0, 2, 4),    (1, 5),\n",
    "                 (0, 4, 6), (1, 3, 5, 7), (2, 4, 8),\n",
    "                 (3, 7),    (4, 6, 8),    (7, 5))\n",
    "        blank = state.index(0)\n",
    "        return moves[blank]\n",
    "    \n",
    "    def result(self, state, action):\n",
    "        \"\"\"Swap the blank with the square numbered `action`.\"\"\"\n",
    "        s = list(state) #convert the state from tuple into list s\n",
    "        blank = state.index(0)\n",
    "        s[action], s[blank] = s[blank], s[action]\n",
    "        return tuple(s) #convert the state back into tuple\n",
    "    \n",
    "    def h1(self, node):\n",
    "        \"\"\"The misplaced tiles heuristic.\"\"\"\n",
    "        return hamming_distance(node.state, self.goal)\n",
    "    \n",
    "    def h2(self, node):\n",
    "        \"\"\"The Manhattan heuristic.\"\"\"\n",
    "        X = (0, 1, 2, 0, 1, 2, 0, 1, 2) #x coordinate of goal state 0,1,2,3,4,5,6,7,8\n",
    "        Y = (0, 0, 0, 1, 1, 1, 2, 2, 2) #y coordinate of goal state 0,1,2,3,4,5,6,7,8\n",
    "        return sum(abs(X[s] - X[g]) + abs(Y[s] - Y[g])\n",
    "                   for (s, g) in zip(node.state, self.goal) if s != 0)\n",
    "    \n",
    "    def h(self, node): return self.h1(node) \n",
    "    \n",
    "    \n",
    "def hamming_distance(A, B):\n",
    "    \"Number of positions where vectors A and B are different.\"\n",
    "    return sum(a != b for a, b in zip(A, B))\n",
    "    \n",
    "\n",
    "def inversions(board):\n",
    "    \"The number of times a piece is a smaller number than a following piece.\"\n",
    "    return sum((a > b and a != 0 and b != 0) for (a, b) in combinations(board, 2))\n",
    "    \n",
    "    \n",
    "def board8(board, fmt=(3 * '{} {} {}\\n')):\n",
    "    \"A string representing an 8-puzzle board\"\n",
    "    return fmt.format(*board).replace('0', '_') # *board => treat board as 9 arguments"
   ]
  },
  {
   "cell_type": "code",
   "execution_count": 12,
   "metadata": {},
   "outputs": [],
   "source": [
    "# Some specific EightPuzzle problems\n",
    "\n",
    "e1 = EightPuzzle((1, 4, 2, 0, 7, 5, 3, 6, 8))\n",
    "e2 = EightPuzzle((1, 2, 3, 4, 5, 6, 7, 8, 0))\n",
    "e3 = EightPuzzle((4, 0, 2, 5, 1, 3, 7, 8, 6))\n",
    "e4 = EightPuzzle((7, 2, 4, 5, 0, 6, 8, 3, 1))\n",
    "e5 = EightPuzzle((8, 6, 7, 2, 5, 4, 3, 0, 1))"
   ]
  },
  {
   "cell_type": "code",
   "execution_count": 13,
   "metadata": {},
   "outputs": [
    {
     "name": "stdout",
     "output_type": "stream",
     "text": [
      "1 4 2\n",
      "_ 7 5\n",
      "3 6 8\n",
      "\n",
      "1 4 2\n",
      "3 7 5\n",
      "_ 6 8\n",
      "\n",
      "1 4 2\n",
      "3 7 5\n",
      "6 _ 8\n",
      "\n",
      "1 4 2\n",
      "3 _ 5\n",
      "6 7 8\n",
      "\n",
      "1 _ 2\n",
      "3 4 5\n",
      "6 7 8\n",
      "\n",
      "_ 1 2\n",
      "3 4 5\n",
      "6 7 8\n",
      "\n"
     ]
    }
   ],
   "source": [
    "# Solve an 8 puzzle problem and print out each state\n",
    "\n",
    "for s in path_states (astar_tree_search(e1)):\n",
    "    print(board8(s))"
   ]
  },
  {
   "cell_type": "markdown",
   "metadata": {},
   "source": [
    "# Reporting Summary Statistics on Search Algorithms\n",
    "\n",
    "Now let's gather some metrics on how well each algorithm does.  We'll use `CountCalls` to wrap a `Problem` object in such a way that calls to its methods are delegated to the original problem, but each call increments a counter. Once we've solved the problem, we print out summary statistics.\n",
    "\n",
    "Generate report on statistics in terms of number of nodes discovered, number of goal test, total path cost and number of actions against different search algorithms and problem settings."
   ]
  },
  {
   "cell_type": "code",
   "execution_count": 14,
   "metadata": {},
   "outputs": [],
   "source": [
    "class CountCalls:\n",
    "    \"\"\"Delegate all attribute gets to the object, and count them in ._counts\"\"\"\n",
    "    def __init__(self, obj):\n",
    "        self._object = obj\n",
    "        self._counts = Counter() #the self._counts will count number of times each methods has been used.\n",
    "        \n",
    "    def __getattr__(self, attr):\n",
    "        \"Delegate to the original object, after incrementing a counter.\"\n",
    "        self._counts[attr] += 1\n",
    "        return getattr(self._object, attr)\n",
    "\n",
    "        \n",
    "def report(searchers, problems, verbose=True):\n",
    "    \"\"\"Show summary statistics for each searcher (and on each problem unless verbose is false).\"\"\"\n",
    "    show_stat = {};\n",
    "    for searcher in searchers:\n",
    "        print(searcher.__name__ + ':')\n",
    "        total_counts = Counter()\n",
    "        for p in problems:\n",
    "            prob   = CountCalls(p)\n",
    "            soln   = searcher(prob) # run problem p with current searcher, \n",
    "            counts = prob._counts; \n",
    "            counts.update(path_actions=len(soln), path_cost=soln.path_cost) \n",
    "            total_counts += counts\n",
    "            if verbose: report_counts(counts, str(p)[:40])\n",
    "        report_counts(total_counts, 'TOTAL\\n')\n",
    "\n",
    "        show_stat[searcher.__name__] = [total_counts['result'],total_counts['is_goal'],total_counts['path_actions']]\n",
    "    return show_stat\n",
    "        \n",
    "def report_counts(counts, name):\n",
    "    \"\"\"Print one line of the counts report.\"\"\"\n",
    "    print('{:9,d} nodes |{:9,d} goal |{:8.0f} path cost |{:8,d} path actions | {}'.format(\n",
    "          counts['result'], counts['is_goal'], counts['path_cost'], counts['path_actions'], name)) \n"
   ]
  },
  {
   "cell_type": "code",
   "execution_count": 15,
   "metadata": {
    "scrolled": true
   },
   "outputs": [
    {
     "name": "stdout",
     "output_type": "stream",
     "text": [
      "uniform_cost_search:\n",
      "        0 nodes |        1 goal |       0 path cost |       0 path actions | RouteProblem('A', 'A')\n",
      "       43 nodes |       18 goal |     418 path cost |       4 path actions | RouteProblem('A', 'B')\n",
      "       73 nodes |       30 goal |     910 path cost |       9 path actions | RouteProblem('N', 'L')\n",
      "       79 nodes |       33 goal |     805 path cost |       8 path actions | RouteProblem('E', 'T')\n",
      "        4 nodes |        2 goal |      80 path cost |       1 path actions | RouteProblem('S', 'R')\n",
      "       26 nodes |       11 goal |     278 path cost |       3 path actions | RouteProblem('S', 'B')\n",
      "        7 nodes |        3 goal |      99 path cost |       1 path actions | RouteProblem('S', 'F')\n",
      "      232 nodes |       98 goal |    2590 path cost |      26 path actions | TOTAL\n",
      "\n",
      "astar_tree_search:\n",
      "        0 nodes |        1 goal |       0 path cost |       0 path actions | RouteProblem('A', 'A')\n",
      "       15 nodes |        6 goal |     418 path cost |       4 path actions | RouteProblem('A', 'B')\n",
      "       47 nodes |       19 goal |     910 path cost |       9 path actions | RouteProblem('N', 'L')\n",
      "       46 nodes |       18 goal |     805 path cost |       8 path actions | RouteProblem('E', 'T')\n",
      "        4 nodes |        2 goal |      80 path cost |       1 path actions | RouteProblem('S', 'R')\n",
      "       12 nodes |        5 goal |     278 path cost |       3 path actions | RouteProblem('S', 'B')\n",
      "        4 nodes |        2 goal |      99 path cost |       1 path actions | RouteProblem('S', 'F')\n",
      "      128 nodes |       53 goal |    2590 path cost |      26 path actions | TOTAL\n",
      "\n",
      "depth_first_bfs:\n",
      "        0 nodes |        1 goal |       0 path cost |       0 path actions | RouteProblem('A', 'A')\n",
      "       17 nodes |        7 goal |     575 path cost |       6 path actions | RouteProblem('A', 'B')\n",
      "       34 nodes |       15 goal |    1053 path cost |      10 path actions | RouteProblem('N', 'L')\n",
      "       30 nodes |       13 goal |     805 path cost |       8 path actions | RouteProblem('E', 'T')\n",
      "        4 nodes |        2 goal |      80 path cost |       1 path actions | RouteProblem('S', 'R')\n",
      "       10 nodes |        4 goal |     278 path cost |       3 path actions | RouteProblem('S', 'B')\n",
      "       26 nodes |       12 goal |     489 path cost |       4 path actions | RouteProblem('S', 'F')\n",
      "      121 nodes |       54 goal |    3280 path cost |      32 path actions | TOTAL\n",
      "\n",
      "breadth_first_bfs:\n",
      "        0 nodes |        1 goal |       0 path cost |       0 path actions | RouteProblem('A', 'A')\n",
      "       36 nodes |       15 goal |     450 path cost |       3 path actions | RouteProblem('A', 'B')\n",
      "       82 nodes |       34 goal |     910 path cost |       9 path actions | RouteProblem('N', 'L')\n",
      "       76 nodes |       31 goal |     837 path cost |       7 path actions | RouteProblem('E', 'T')\n",
      "        4 nodes |        2 goal |      80 path cost |       1 path actions | RouteProblem('S', 'R')\n",
      "       26 nodes |       11 goal |     310 path cost |       2 path actions | RouteProblem('S', 'B')\n",
      "        7 nodes |        3 goal |      99 path cost |       1 path actions | RouteProblem('S', 'F')\n",
      "      231 nodes |       97 goal |    2686 path cost |      23 path actions | TOTAL\n",
      "\n",
      "depth_limited_tree_search:\n",
      "        0 nodes |        1 goal |       0 path cost |       0 path actions | RouteProblem('A', 'A')\n",
      "       17 nodes |        8 goal |     733 path cost |       7 path actions | RouteProblem('A', 'B')\n",
      "       40 nodes |       38 goal |     910 path cost |       9 path actions | RouteProblem('N', 'L')\n",
      "       29 nodes |       23 goal |     992 path cost |       9 path actions | RouteProblem('E', 'T')\n",
      "       28 nodes |       22 goal |     695 path cost |       5 path actions | RouteProblem('S', 'R')\n",
      "        6 nodes |        3 goal |     310 path cost |       2 path actions | RouteProblem('S', 'B')\n",
      "        4 nodes |        2 goal |      99 path cost |       1 path actions | RouteProblem('S', 'F')\n",
      "      124 nodes |       97 goal |    3739 path cost |      33 path actions | TOTAL\n",
      "\n"
     ]
    }
   ],
   "source": [
    "show_stat = report([uniform_cost_search, astar_tree_search, depth_first_bfs,breadth_first_bfs,depth_limited_tree_search], [ r0,r1,r2,r3,r4,r5,r6])"
   ]
  },
  {
   "cell_type": "code",
   "execution_count": 16,
   "metadata": {},
   "outputs": [],
   "source": [
    "%matplotlib inline\n",
    "import numpy as np\n",
    "import matplotlib.pyplot as plt\n",
    "\n",
    "\n",
    "def show_bar(show_stat):\n",
    "    columns = ('nodes','goal','actions')\n",
    "    rows = ['%s' % x for x in show_stat.keys() ]\n",
    "    \n",
    "    values = np.arange(0, 100, 25)\n",
    "    value_increment = 5\n",
    "   \n",
    "    # Get some pastel shades for the colors\n",
    "    colors = plt.cm.BuPu(np.linspace(0.5, 1, len(show_stat)))\n",
    "    n_rows = len(show_stat)\n",
    "\n",
    "    index = np.arange(len(columns)) + 0.3\n",
    "    bar_width = 0.1\n",
    "\n",
    "    # Initialize the vertical-offset for the stacked bar chart.\n",
    "    y_offset = np.zeros(len(columns))\n",
    "\n",
    "    # Plot bars and create text labels for the table\n",
    "    cell_text = []\n",
    "    for row in range(n_rows):\n",
    "        index = index+0.1\n",
    "        plt.bar(index, show_stat[rows[row]], bar_width, bottom=0, color=colors[row],edgecolor = 'white')\n",
    "    \n",
    "        #y_offset = y_offset + show_stat[rows[row]]\n",
    "        y_offset =show_stat[rows[row]]\n",
    "        cell_text.append(['%1.1f' % (x ) for x in y_offset])\n",
    "    \n",
    "    # Reverse colors and text labels to display the last value at the top.\n",
    "    colors = colors[::1]\n",
    "   # cell_text.reverse()\n",
    "    \n",
    "    # Add a table at the bottom of the axes\n",
    "    the_table = plt.table(cellText=cell_text,\n",
    "                      rowLabels=rows,\n",
    "                      rowColours=colors,\n",
    "                      colLabels=columns,\n",
    "                      loc='bottom')\n",
    "    \n",
    "    # Adjust layout to make room for the table:\n",
    "    plt.subplots_adjust(left=0.2, bottom=0.2)\n",
    "\n",
    "    plt.ylabel(\"search comparison\")\n",
    " #   plt.yticks(values * value_increment, ['%d' % val for val in values])\n",
    "    plt.xticks([])\n",
    "    plt.title('search criteria')\n",
    "\n",
    "    plt.show()"
   ]
  },
  {
   "cell_type": "code",
   "execution_count": 17,
   "metadata": {},
   "outputs": [
    {
     "data": {
      "image/png": "[encoded data removed]",
      "text/plain": [
       "<Figure size 432x288 with 1 Axes>"
      ]
     },
     "metadata": {
      "needs_background": "light"
     },
     "output_type": "display_data"
    }
   ],
   "source": [
    "show_bar(show_stat)"
   ]
  }
 ],
 "metadata": {
  "kernelspec": {
   "display_name": "Python 3",
   "language": "python",
   "name": "python3"
  },
  "language_info": {
   "codemirror_mode": {
    "name": "ipython",
    "version": 3
   },
   "file_extension": ".py",
   "mimetype": "text/x-python",
   "name": "python",
   "nbconvert_exporter": "python",
   "pygments_lexer": "ipython3",
   "version": "3.8.5"
  }
 },
 "nbformat": 4,
 "nbformat_minor": 4
}
