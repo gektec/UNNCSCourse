{
 "cells": [
  {
   "cell_type": "markdown",
   "id": "challenging-gnome",
   "metadata": {},
   "source": [
    "# Object Oriented Programming - Python Tutorial\n",
    "\n",
    "This notebook tutorial is created by Dr Qian Zhang for the use of COMP1037 (UNNC) python tutorial on Mar 7 2021. It was adpoted from module slides originally written by Bryan for the use of summer school pgp module.\n"
   ]
  },
  {
   "cell_type": "markdown",
   "id": "welcome-pendant",
   "metadata": {},
   "source": [
    "## Defining a New Python Class"
   ]
  },
  {
   "cell_type": "markdown",
   "id": "happy-organ",
   "metadata": {},
   "source": [
    "### Defining the class `Point`"
   ]
  },
  {
   "attachments": {},
   "cell_type": "markdown",
   "id": "overall-reasoning",
   "metadata": {},
   "source": [
    "Suppose we would like to have a class that represents points on a plane \n",
    "<img style=\"float: centre;\" src=\"img/point.jpg\" width=\"20%\"> "
   ]
  },
  {
   "cell_type": "markdown",
   "id": "approved-sender",
   "metadata": {},
   "source": [
    "* A **namespace** called Point needs to be defined.\n",
    "* Namespace Point will store the names of the 4 **methods** (the class attributes).\n",
    "* Each method is a function that has an **extra (first) argument** which refers to the object that the method is invoked on.\n",
    "* The Python **class** statement defines a new class (and associated namespace).\n",
    "<img style=\"float: centre;\" src=\"img/namespace.jpg\" width=\"50%\"> "
   ]
  },
  {
   "cell_type": "code",
   "execution_count": 1,
   "id": "crude-anxiety",
   "metadata": {},
   "outputs": [],
   "source": [
    "class Point:\n",
    "    'class that represents a point in the plane'\n",
    "    \n",
    "    def setx(self, xcoord):\n",
    "        'set x coordinate of point to xcoord' \n",
    "        self.x = xcoord\n",
    "    \n",
    "    def sety(self, ycoord):\n",
    "        'set y coordinate of point to ycoord'\n",
    "        self.y = ycoord\n",
    "    \n",
    "    def get(self):\n",
    "        'return coordinates of the point as a tuple' \n",
    "        return (self.x, self.y)\n",
    "    \n",
    "    def move(self, dx, dy):\n",
    "        'change the x and y coordinates by dx and dy'\n",
    "        self.x += dx\n",
    "        self.y += dy"
   ]
  },
  {
   "cell_type": "markdown",
   "id": "bronze-currency",
   "metadata": {},
   "source": [
    "### The instance namespace\n",
    "* Variables stored in namespaces of an **object (instance)** are called **instance variables (or instance attributes)**.\n",
    "* Every object will have its own namespace and therefore its own instance variables.\n"
   ]
  },
  {
   "cell_type": "code",
   "execution_count": 2,
   "id": "agreed-asbestos",
   "metadata": {},
   "outputs": [],
   "source": [
    "a = Point()\n",
    "a.setx(3)\n",
    "a.sety(4)\n",
    "\n",
    "b = Point()\n",
    "b.setx(0)\n",
    "b.sety(0)"
   ]
  },
  {
   "cell_type": "markdown",
   "id": "known-testament",
   "metadata": {},
   "source": [
    "<img style=\"float: centre;\" src=\"img/instance_variable.jpg\" width=\"50%\"> "
   ]
  },
  {
   "cell_type": "code",
   "execution_count": 3,
   "id": "speaking-homeless",
   "metadata": {},
   "outputs": [
    {
     "name": "stdout",
     "output_type": "stream",
     "text": [
      "point a is (3, 4)\n",
      "point b is (0, 0)\n"
     ]
    }
   ],
   "source": [
    "print('point a is {}'.format(a.get()))\n",
    "print('point b is {}'.format(b.get()))"
   ]
  },
  {
   "cell_type": "markdown",
   "id": "described-assembly",
   "metadata": {},
   "source": [
    "An instance of a class inherits all the class attributes.\n",
    "\n",
    "* Method names `setx`, `sety`, `get` and `move` are defined in namespace `Point`.\n",
    "* Not in namespace `a` or `b`."
   ]
  },
  {
   "cell_type": "code",
   "execution_count": 4,
   "id": "friendly-measurement",
   "metadata": {},
   "outputs": [
    {
     "data": {
      "text/plain": [
       "['__class__',\n",
       " '__delattr__',\n",
       " '__dict__',\n",
       " '__dir__',\n",
       " '__doc__',\n",
       " '__eq__',\n",
       " '__format__',\n",
       " '__ge__',\n",
       " '__getattribute__',\n",
       " '__gt__',\n",
       " '__hash__',\n",
       " '__init__',\n",
       " '__init_subclass__',\n",
       " '__le__',\n",
       " '__lt__',\n",
       " '__module__',\n",
       " '__ne__',\n",
       " '__new__',\n",
       " '__reduce__',\n",
       " '__reduce_ex__',\n",
       " '__repr__',\n",
       " '__setattr__',\n",
       " '__sizeof__',\n",
       " '__str__',\n",
       " '__subclasshook__',\n",
       " '__weakref__',\n",
       " 'get',\n",
       " 'move',\n",
       " 'setx',\n",
       " 'sety',\n",
       " 'x',\n",
       " 'y']"
      ]
     },
     "execution_count": 4,
     "metadata": {},
     "output_type": "execute_result"
    }
   ],
   "source": [
    "dir(a)"
   ]
  },
  {
   "cell_type": "markdown",
   "id": "violent-ethiopia",
   "metadata": {},
   "source": [
    "Python does the following when evaluating expression a.setx:\n",
    "* First attempts to find name `setx` in object (namespace) `a`.\n",
    "* If name `setx` does not exist in namespace `a`, then it attempts to find `setx` in namespace `Point`.\n",
    "<img style=\"float: centre;\" src=\"img/classinstance.jpg\" width=\"50%\"> "
   ]
  },
  {
   "cell_type": "markdown",
   "id": "happy-silence",
   "metadata": {},
   "source": [
    "## Overloaded Constructor"
   ]
  },
  {
   "cell_type": "markdown",
   "id": "compound-hello",
   "metadata": {},
   "source": [
    "* It takes **Three** steps to create a `Point` object at specific `x` and `y` coordinates.\n"
   ]
  },
  {
   "cell_type": "code",
   "execution_count": 5,
   "id": "collectible-poetry",
   "metadata": {},
   "outputs": [
    {
     "data": {
      "text/plain": [
       "(3, 4)"
      ]
     },
     "execution_count": 5,
     "metadata": {},
     "output_type": "execute_result"
    }
   ],
   "source": [
    "a = Point() #step 1\n",
    "a.setx(3) #step 2\n",
    "a.sety(4) #step 3\n",
    "a.get()"
   ]
  },
  {
   "cell_type": "markdown",
   "id": "contrary-people",
   "metadata": {},
   "source": [
    "* It would be better if we could do it in **one** step.\n"
   ]
  },
  {
   "cell_type": "code",
   "execution_count": 6,
   "id": "heated-supply",
   "metadata": {},
   "outputs": [],
   "source": [
    "class Point:\n",
    "    def __init__(self, xcoord=0, ycoord=0):\n",
    "        'initialize coordinates to (xcoord, ycoord)'\n",
    "        self.x = xcoord\n",
    "        self.y = ycoord\n",
    "\n",
    "    def setx(self, xcoord):\n",
    "        'set x coordinate of point to xcoord'\n",
    "        self.x = xcoord\n",
    "\n",
    "    def sety(self, ycoord):\n",
    "        'set y coordinate of point to ycoord'\n",
    "        self.y = ycoord\n",
    "\n",
    "    def get(self):\n",
    "        'return coordinates of the point as a tuple'\n",
    "        return (self.x, self.y)\n",
    "\n",
    "    def move(self, dx, dy):\n",
    "        'change the x and y coordinates by dx and dy'\n",
    "        self.x += dx\n",
    "        self.y += dy\n"
   ]
  },
  {
   "cell_type": "code",
   "execution_count": 7,
   "id": "numerous-andrew",
   "metadata": {},
   "outputs": [
    {
     "data": {
      "text/plain": [
       "(3, 4)"
      ]
     },
     "execution_count": 7,
     "metadata": {},
     "output_type": "execute_result"
    }
   ],
   "source": [
    "a = Point(3,4) #step 1\n",
    "a.get()"
   ]
  },
  {
   "cell_type": "markdown",
   "id": "blank-disaster",
   "metadata": {},
   "source": [
    "* if argument is missing, the default value will be passed"
   ]
  },
  {
   "cell_type": "code",
   "execution_count": 8,
   "id": "secure-triple",
   "metadata": {},
   "outputs": [
    {
     "data": {
      "text/plain": [
       "(0, 0)"
      ]
     },
     "execution_count": 8,
     "metadata": {},
     "output_type": "execute_result"
    }
   ],
   "source": [
    "b = Point()\n",
    "b.get()"
   ]
  },
  {
   "attachments": {},
   "cell_type": "markdown",
   "id": "neural-hebrew",
   "metadata": {},
   "source": [
    "* the constructor can support not fixed number of input argument\n",
    "* the following `Animal` class can supports a two, one, or no input argument constructor."
   ]
  },
  {
   "cell_type": "code",
   "execution_count": 9,
   "id": "seeing-matthew",
   "metadata": {},
   "outputs": [],
   "source": [
    "class Animal:\n",
    "    'represents an animal'\n",
    "\n",
    "    def __init__(self, species='animal', language='make sounds'):\n",
    "        self.species = species\n",
    "        self.language = language\n",
    "\n",
    "\n",
    "    def speak(self):\n",
    "        'prints a sentence by the animal'\n",
    "        print('I am a {} and I {}.'.format(self.species, self.language))\n"
   ]
  },
  {
   "cell_type": "code",
   "execution_count": 10,
   "id": "affecting-alaska",
   "metadata": {},
   "outputs": [
    {
     "name": "stdout",
     "output_type": "stream",
     "text": [
      "I am a dog and I bark.\n"
     ]
    }
   ],
   "source": [
    "snoopy = Animal('dog','bark')\n",
    "snoopy.speak()"
   ]
  },
  {
   "cell_type": "code",
   "execution_count": 11,
   "id": "transsexual-drink",
   "metadata": {},
   "outputs": [
    {
     "name": "stdout",
     "output_type": "stream",
     "text": [
      "I am a canary and I make sounds.\n"
     ]
    }
   ],
   "source": [
    "tweety = Animal('canary')\n",
    "tweety.speak()"
   ]
  },
  {
   "cell_type": "code",
   "execution_count": 12,
   "id": "precious-customs",
   "metadata": {},
   "outputs": [
    {
     "name": "stdout",
     "output_type": "stream",
     "text": [
      "I am a animal and I make sounds.\n"
     ]
    }
   ],
   "source": [
    "animal = Animal()\n",
    "animal.speak()"
   ]
  },
  {
   "cell_type": "markdown",
   "id": "spiritual-company",
   "metadata": {},
   "source": [
    "### Examples: Card and Deck"
   ]
  },
  {
   "attachments": {},
   "cell_type": "markdown",
   "id": "working-detection",
   "metadata": {},
   "source": [
    "#### Card\n",
    "* Goal: develop a class `Card` to represent playing cards.\n",
    "* The class `Card` should support methods:\n",
    "    1. `Card(rank, suit)`: Constructor that initializes the rank and suit of the card.\n",
    "    2. `getRank()`: Returns the card’s rank.\n",
    "    3. `getSuit()`: Returns the card’s suit.\n"
   ]
  },
  {
   "cell_type": "code",
   "execution_count": 13,
   "id": "saving-bradley",
   "metadata": {},
   "outputs": [],
   "source": [
    "class Card:\n",
    "    'represents a playing card'\n",
    "\n",
    "    def __init__(self, rank, suit):\n",
    "        'initialize rank and suit of card'\n",
    "        self.rank = rank\n",
    "        self.suit = suit\n",
    "\n",
    "    def getRank(self):\n",
    "        'return rank'\n",
    "        return print(self.rank)\n",
    "\n",
    "    def getSuit(self):\n",
    "        'return suit'\n",
    "        return print(self.suit)\n"
   ]
  },
  {
   "cell_type": "code",
   "execution_count": 14,
   "id": "criminal-church",
   "metadata": {},
   "outputs": [
    {
     "name": "stdout",
     "output_type": "stream",
     "text": [
      "3\n",
      "♠\n"
     ]
    }
   ],
   "source": [
    "card = Card('3', '\\u2660')\n",
    "card.getRank()\n",
    "card.getSuit()"
   ]
  },
  {
   "attachments": {},
   "cell_type": "markdown",
   "id": "pleasant-fabric",
   "metadata": {},
   "source": [
    "#### Deck\n",
    "\n",
    "* Goal: develop a class `Deck` to represent standard deck of 52 playing cards.\n",
    "* The class `Deck` should support methods:\n",
    "    1. `Deck()`: Initialize the deck to contain a standard deck of 52 playing cards.\n",
    "    2. `shuffle()`: Shuffles the deck.\n",
    "    3. `dealCard()`: Pops and returns the card at the top of the deck.\n"
   ]
  },
  {
   "cell_type": "code",
   "execution_count": 15,
   "id": "transparent-ratio",
   "metadata": {},
   "outputs": [],
   "source": [
    "import random\n",
    "class Deck:\n",
    "    'represents a deck of 52 cards'\n",
    "\n",
    "    # ranks and suits are Deck class variables\n",
    "    ranks = {'2','3','4','5','6','7','8','9','10','J','Q','K','A'}\n",
    "\n",
    "    # suits is a set of 4 Unicode symbols representing the 4 suits \n",
    "    suits = {'\\u2660', '\\u2661', '\\u2662', '\\u2663'}\n",
    "\n",
    "    def __init__(self):\n",
    "        'initialize deck of 52 cards'\n",
    "        self.deck = []          # deck is initially empty\n",
    "\n",
    "        for suit in Deck.suits: # suits and ranks are Deck\n",
    "            for rank in Deck.ranks: # class variables\n",
    "                # add Card with given rank and suit to deck\n",
    "                self.deck.append(Card(rank,suit))\n",
    "\n",
    "\n",
    "    def dealCard(self):\n",
    "        'deal (pop and return) card from the top of the deck'\n",
    "        return self.deck.pop()\n",
    "\n",
    "    def shuffle(self):\n",
    "        return random.shuffle(self.deck)\n",
    "    \n",
    "    def get_size(self): \n",
    "        return print(len(self.deck))\n",
    "    "
   ]
  },
  {
   "cell_type": "code",
   "execution_count": 16,
   "id": "collect-union",
   "metadata": {
    "scrolled": true
   },
   "outputs": [
    {
     "name": "stdout",
     "output_type": "stream",
     "text": [
      "K\n",
      "♡\n",
      "51\n",
      "9\n",
      "♠\n",
      "50\n"
     ]
    }
   ],
   "source": [
    "deck = Deck()\n",
    "deck.shuffle()\n",
    "card = deck.dealCard()\n",
    "card.getRank(),card.getSuit()\n",
    "deck.get_size()\n",
    "\n",
    "card = deck.dealCard()\n",
    "card.getRank(),card.getSuit()\n",
    "deck.get_size()"
   ]
  },
  {
   "cell_type": "markdown",
   "id": "internal-wallet",
   "metadata": {},
   "source": [
    "## Container Class: class Queue"
   ]
  },
  {
   "cell_type": "markdown",
   "id": "periodic-greece",
   "metadata": {},
   "source": [
    "* Goal: develop a class `Queue`, an ordered collection of objects that restricts insertions to the rear of the queue and removal from the front of the queue.\n",
    "* The class `Queue` should support methods:\n",
    "    1. `Queue()`: Constructor that initializes the queue to an empty queue.\n",
    "    2. `enqueue()`: Add item to the end of the queue.\n",
    "    3. `dequeue()`: Remove and return the element at the front of the queue.\n",
    "    4. `isEmpty()`: Returns True if the queue is empty, False otherwise.\n"
   ]
  },
  {
   "cell_type": "code",
   "execution_count": 17,
   "id": "compressed-shelf",
   "metadata": {},
   "outputs": [],
   "source": [
    "class Queue:\n",
    "    'a classic queue class'\n",
    "\n",
    "    def __init__(self):\n",
    "        'instantiates an empty list'\n",
    "        self.q = []\n",
    "\n",
    "    def isEmpty(self):\n",
    "        'returns True if queue is empty, False otherwise'\n",
    "        return (len(self.q) == 0)\n",
    "\n",
    "    def enqueue (self, item):\n",
    "        'insert item at rear of queue'\n",
    "        return self.q.append(item)\n",
    "\n",
    "    def dequeue(self):\n",
    "        'remove and return item at front of queue'\n",
    "        return self.q.pop(0)\n"
   ]
  },
  {
   "cell_type": "markdown",
   "id": "higher-setup",
   "metadata": {},
   "source": [
    "<img style=\"float: centre;\" src=\"img/container.jpg\" width=\"50%\"> "
   ]
  },
  {
   "cell_type": "code",
   "execution_count": 18,
   "id": "together-pillow",
   "metadata": {},
   "outputs": [
    {
     "data": {
      "text/plain": [
       "True"
      ]
     },
     "execution_count": 18,
     "metadata": {},
     "output_type": "execute_result"
    }
   ],
   "source": [
    "appts = Queue()\n",
    "appts.enqueue('John')\n",
    "appts.enqueue('Annie')\n",
    "appts.enqueue('Sandy')\n",
    "appts.dequeue()\n",
    "appts.dequeue()\n",
    "appts.dequeue()\n",
    "appts.isEmpty()\n"
   ]
  },
  {
   "cell_type": "markdown",
   "id": "genuine-equivalent",
   "metadata": {},
   "source": [
    "## Python Operators"
   ]
  },
  {
   "cell_type": "markdown",
   "id": "royal-yahoo",
   "metadata": {},
   "source": [
    "### Classes are not User-friendly"
   ]
  },
  {
   "cell_type": "code",
   "execution_count": 19,
   "id": "understood-civilian",
   "metadata": {},
   "outputs": [],
   "source": [
    "a = Point(3, 4)"
   ]
  },
  {
   "cell_type": "code",
   "execution_count": 20,
   "id": "fewer-indian",
   "metadata": {},
   "outputs": [
    {
     "data": {
      "text/plain": [
       "<__main__.Point at 0x7ff0f815f5e0>"
      ]
     },
     "execution_count": 20,
     "metadata": {},
     "output_type": "execute_result"
    }
   ],
   "source": [
    "a"
   ]
  },
  {
   "cell_type": "code",
   "execution_count": 21,
   "id": "laden-nurse",
   "metadata": {},
   "outputs": [],
   "source": [
    "b = Point(1,2)"
   ]
  },
  {
   "cell_type": "code",
   "execution_count": 22,
   "id": "continuous-classics",
   "metadata": {},
   "outputs": [
    {
     "ename": "TypeError",
     "evalue": "unsupported operand type(s) for +: 'Point' and 'Point'",
     "output_type": "error",
     "traceback": [
      "\u001b[0;31m---------------------------------------------------------------------------\u001b[0m",
      "\u001b[0;31mTypeError\u001b[0m                                 Traceback (most recent call last)",
      "\u001b[0;32m<ipython-input-22-ca730b97bf8a>\u001b[0m in \u001b[0;36m<module>\u001b[0;34m\u001b[0m\n\u001b[0;32m----> 1\u001b[0;31m \u001b[0ma\u001b[0m\u001b[0;34m+\u001b[0m\u001b[0mb\u001b[0m\u001b[0;34m\u001b[0m\u001b[0;34m\u001b[0m\u001b[0m\n\u001b[0m",
      "\u001b[0;31mTypeError\u001b[0m: unsupported operand type(s) for +: 'Point' and 'Point'"
     ]
    }
   ],
   "source": [
    "a+b"
   ]
  },
  {
   "cell_type": "code",
   "execution_count": 23,
   "id": "blind-scratch",
   "metadata": {},
   "outputs": [
    {
     "ename": "TypeError",
     "evalue": "object of type 'Queue' has no len()",
     "output_type": "error",
     "traceback": [
      "\u001b[0;31m---------------------------------------------------------------------------\u001b[0m",
      "\u001b[0;31mTypeError\u001b[0m                                 Traceback (most recent call last)",
      "\u001b[0;32m<ipython-input-23-3b32cac5ba8f>\u001b[0m in \u001b[0;36m<module>\u001b[0;34m\u001b[0m\n\u001b[1;32m      1\u001b[0m \u001b[0mappts\u001b[0m \u001b[0;34m=\u001b[0m \u001b[0mQueue\u001b[0m\u001b[0;34m(\u001b[0m\u001b[0;34m)\u001b[0m\u001b[0;34m\u001b[0m\u001b[0;34m\u001b[0m\u001b[0m\n\u001b[0;32m----> 2\u001b[0;31m \u001b[0mlen\u001b[0m\u001b[0;34m(\u001b[0m\u001b[0mappts\u001b[0m\u001b[0;34m)\u001b[0m\u001b[0;34m\u001b[0m\u001b[0;34m\u001b[0m\u001b[0m\n\u001b[0m",
      "\u001b[0;31mTypeError\u001b[0m: object of type 'Queue' has no len()"
     ]
    }
   ],
   "source": [
    "appts = Queue()\n",
    "len(appts)\n"
   ]
  },
  {
   "cell_type": "markdown",
   "id": "dependent-venue",
   "metadata": {},
   "source": [
    "### Overloaded Operators\n",
    "* Operator `+` is defined for multiple classes; it is an overloaded operator. \n",
    "\n",
    "* For each class, the definition—and thus the meaning—of the operator is different. \n",
    "    * integer addition for class `int`\n",
    "    * list concatenation for class `list`\n",
    "    * string concatenation for class `str`\n"
   ]
  },
  {
   "cell_type": "code",
   "execution_count": 24,
   "id": "adjustable-nancy",
   "metadata": {},
   "outputs": [
    {
     "data": {
      "text/plain": [
       "3"
      ]
     },
     "execution_count": 24,
     "metadata": {},
     "output_type": "execute_result"
    }
   ],
   "source": [
    "1+2 #equivalent to int(1).__add__(2)"
   ]
  },
  {
   "cell_type": "code",
   "execution_count": 25,
   "id": "relative-investment",
   "metadata": {},
   "outputs": [
    {
     "data": {
      "text/plain": [
       "'hello'"
      ]
     },
     "execution_count": 25,
     "metadata": {},
     "output_type": "execute_result"
    }
   ],
   "source": [
    "'he'+'llo' #equivalent to 'he'.__add__('llo')"
   ]
  },
  {
   "cell_type": "code",
   "execution_count": 26,
   "id": "logical-latitude",
   "metadata": {},
   "outputs": [
    {
     "data": {
      "text/plain": [
       "[1, 2, 3, 4]"
      ]
     },
     "execution_count": 26,
     "metadata": {},
     "output_type": "execute_result"
    }
   ],
   "source": [
    "[1,2]+[3,4] #equivalent to [1,2].__add__([3,4])"
   ]
  },
  {
   "attachments": {},
   "cell_type": "markdown",
   "id": "resident-vaccine",
   "metadata": {},
   "source": [
    "* How is the behavior of operator `+` defined for a particular class?\n",
    "    * Class method `__add__()` implements the behavior of operator `+` for the class.\n",
    "<img style=\"float: left;\" src=\"img/operators.jpg\" width=\"80%\"> "
   ]
  },
  {
   "cell_type": "markdown",
   "id": "blessed-enlargement",
   "metadata": {},
   "source": [
    "* In Python, all expressions involving operators are translated into method calls.\n",
    "<img style=\"float: center;\" src=\"img/operator_list.jpg\" width=\"30%\"> "
   ]
  },
  {
   "cell_type": "code",
   "execution_count": 27,
   "id": "relevant-choir",
   "metadata": {},
   "outputs": [
    {
     "data": {
      "text/plain": [
       "'!!!!!!!!!!'"
      ]
     },
     "execution_count": 27,
     "metadata": {},
     "output_type": "execute_result"
    }
   ],
   "source": [
    " '!'*10   # '!'.__mul__(10)"
   ]
  },
  {
   "cell_type": "code",
   "execution_count": 28,
   "id": "provincial-sustainability",
   "metadata": {},
   "outputs": [
    {
     "data": {
      "text/plain": [
       "False"
      ]
     },
     "execution_count": 28,
     "metadata": {},
     "output_type": "execute_result"
    }
   ],
   "source": [
    "[1,2,3] == [2,3,4]  #[1,2,3].__eq__([2,3,4])"
   ]
  },
  {
   "cell_type": "code",
   "execution_count": 29,
   "id": "realistic-above",
   "metadata": {},
   "outputs": [
    {
     "data": {
      "text/plain": [
       "True"
      ]
     },
     "execution_count": 29,
     "metadata": {},
     "output_type": "execute_result"
    }
   ],
   "source": [
    "2 < 5 # int(2).__lt__(5)"
   ]
  },
  {
   "cell_type": "code",
   "execution_count": 30,
   "id": "criminal-emperor",
   "metadata": {},
   "outputs": [
    {
     "data": {
      "text/plain": [
       "True"
      ]
     },
     "execution_count": 30,
     "metadata": {},
     "output_type": "execute_result"
    }
   ],
   "source": [
    "'a' <= 'a' # 'a'.__le__('a')"
   ]
  },
  {
   "cell_type": "code",
   "execution_count": 31,
   "id": "comfortable-check",
   "metadata": {},
   "outputs": [
    {
     "data": {
      "text/plain": [
       "6"
      ]
     },
     "execution_count": 31,
     "metadata": {},
     "output_type": "execute_result"
    }
   ],
   "source": [
    "len([1,1,2,3,5,8]) #[1,1,2,3,5,8].__len__()"
   ]
  },
  {
   "cell_type": "markdown",
   "id": "rental-algorithm",
   "metadata": {},
   "source": [
    "### overloading `repr()`\n",
    "* Built-in function `repr()` returns the **canonical string representation** of an object.\n",
    "    * This is the representation printed by the shell when evaluating object.\n",
    "    * **method `__repr__()` must be implemented and added to corresponding class.**"
   ]
  },
  {
   "cell_type": "code",
   "execution_count": 32,
   "id": "stretch-dominican",
   "metadata": {},
   "outputs": [],
   "source": [
    "class Point:\n",
    "    def __init__(self, xcoord=0, ycoord=0):\n",
    "        'initialize coordinates to (xcoord, ycoord)'\n",
    "        self.x = xcoord\n",
    "        self.y = ycoord\n",
    "\n",
    "    def setx(self, xcoord):\n",
    "        'set x coordinate of point to xcoord'\n",
    "        self.x = xcoord\n",
    "\n",
    "    def sety(self, ycoord):\n",
    "        'set y coordinate of point to ycoord'\n",
    "        self.y = ycoord\n",
    "\n",
    "    def get(self):\n",
    "        'return coordinates of the point as a tuple'\n",
    "        return (self.x, self.y)\n",
    "\n",
    "    def move(self, dx, dy):\n",
    "        'change the x and y coordinates by dx and dy'\n",
    "        self.x += dx\n",
    "        self.y += dy"
   ]
  },
  {
   "cell_type": "code",
   "execution_count": 33,
   "id": "spiritual-petite",
   "metadata": {},
   "outputs": [
    {
     "data": {
      "text/plain": [
       "<__main__.Point at 0x7ff0f8162850>"
      ]
     },
     "execution_count": 33,
     "metadata": {},
     "output_type": "execute_result"
    }
   ],
   "source": [
    "a = Point(5,6)\n",
    "a"
   ]
  },
  {
   "cell_type": "code",
   "execution_count": 34,
   "id": "atomic-creek",
   "metadata": {},
   "outputs": [],
   "source": [
    "class Point:\n",
    "    def __init__(self, xcoord=0, ycoord=0):\n",
    "        'initialize coordinates to (xcoord, ycoord)'\n",
    "        self.x = xcoord\n",
    "        self.y = ycoord\n",
    "\n",
    "    def setx(self, xcoord):\n",
    "        'set x coordinate of point to xcoord'\n",
    "        self.x = xcoord\n",
    "\n",
    "    def sety(self, ycoord):\n",
    "        'set y coordinate of point to ycoord'\n",
    "        self.y = ycoord\n",
    "\n",
    "    def get(self):\n",
    "        'return coordinates of the point as a tuple'\n",
    "        return (self.x, self.y)\n",
    "\n",
    "    def move(self, dx, dy):\n",
    "        'change the x and y coordinates by dx and dy'\n",
    "        self.x += dx\n",
    "        self.y += dy\n",
    "        \n",
    "    def __repr__(self):\n",
    "        'canonical string representation Point(x, y)'\n",
    "        return 'Point({}, {})'.format(self.x, self.y)"
   ]
  },
  {
   "cell_type": "code",
   "execution_count": 35,
   "id": "engaging-facial",
   "metadata": {},
   "outputs": [
    {
     "data": {
      "text/plain": [
       "Point(5, 6)"
      ]
     },
     "execution_count": 35,
     "metadata": {},
     "output_type": "execute_result"
    }
   ],
   "source": [
    "a = Point(5,6)\n",
    "a #a.__repr__()"
   ]
  },
  {
   "cell_type": "code",
   "execution_count": 36,
   "id": "boring-economy",
   "metadata": {},
   "outputs": [],
   "source": [
    "class Card:\n",
    "    'represents a playing card'\n",
    "\n",
    "    def __init__(self, rank, suit):\n",
    "        'initialize rank and suit of card'\n",
    "        self.rank = rank\n",
    "        self.suit = suit\n",
    "\n",
    "    def getRank(self):\n",
    "        'return rank'\n",
    "        return print(self.rank)\n",
    "\n",
    "    def getSuit(self):\n",
    "        'return suit'\n",
    "        return print(self.suit)\n",
    "\n"
   ]
  },
  {
   "cell_type": "code",
   "execution_count": 37,
   "id": "geographic-fountain",
   "metadata": {},
   "outputs": [],
   "source": [
    "class Card:\n",
    "    'represents a playing card'\n",
    "\n",
    "    def __init__(self, rank, suit):\n",
    "        'initialize rank and suit of card'\n",
    "        self.rank = rank\n",
    "        self.suit = suit\n",
    "\n",
    "    def getRank(self):\n",
    "        'return rank'\n",
    "        return self.rank\n",
    "\n",
    "    def getSuit(self):\n",
    "        'return suit'\n",
    "        return self.suit"
   ]
  },
  {
   "cell_type": "code",
   "execution_count": 38,
   "id": "premium-hypothetical",
   "metadata": {},
   "outputs": [
    {
     "data": {
      "text/plain": [
       "<__main__.Card at 0x7ff0f0037eb0>"
      ]
     },
     "execution_count": 38,
     "metadata": {},
     "output_type": "execute_result"
    }
   ],
   "source": [
    "card = Card('2', '♠')\n",
    "card"
   ]
  },
  {
   "cell_type": "code",
   "execution_count": 39,
   "id": "serious-permission",
   "metadata": {},
   "outputs": [],
   "source": [
    "class Card:\n",
    "    'represents a playing card'\n",
    "\n",
    "    def __init__(self, rank, suit):\n",
    "        'initialize rank and suit of card'\n",
    "        self.rank = rank\n",
    "        self.suit = suit\n",
    "\n",
    "    def getRank(self):\n",
    "        'return rank'\n",
    "        return self.rank\n",
    "\n",
    "    def getSuit(self):\n",
    "        'return suit'\n",
    "        return self.suit\n",
    "\n",
    "    def __repr__(self):\n",
    "        'return formal representation'\n",
    "        return \"Card('{}', '{}')\".format(self.rank, self.suit)\n"
   ]
  },
  {
   "cell_type": "code",
   "execution_count": 40,
   "id": "later-equipment",
   "metadata": {},
   "outputs": [
    {
     "data": {
      "text/plain": [
       "Card('2', '♠')"
      ]
     },
     "execution_count": 40,
     "metadata": {},
     "output_type": "execute_result"
    }
   ],
   "source": [
    "card = Card('2', '♠')\n",
    "card"
   ]
  },
  {
   "cell_type": "markdown",
   "id": "driven-turkey",
   "metadata": {},
   "source": [
    "### Overloading operator `+`"
   ]
  },
  {
   "cell_type": "code",
   "execution_count": 41,
   "id": "considerable-optimum",
   "metadata": {},
   "outputs": [
    {
     "ename": "TypeError",
     "evalue": "unsupported operand type(s) for +: 'Point' and 'Point'",
     "output_type": "error",
     "traceback": [
      "\u001b[0;31m---------------------------------------------------------------------------\u001b[0m",
      "\u001b[0;31mTypeError\u001b[0m                                 Traceback (most recent call last)",
      "\u001b[0;32m<ipython-input-41-2df6793f1403>\u001b[0m in \u001b[0;36m<module>\u001b[0;34m\u001b[0m\n\u001b[1;32m      1\u001b[0m \u001b[0ma\u001b[0m \u001b[0;34m=\u001b[0m \u001b[0mPoint\u001b[0m\u001b[0;34m(\u001b[0m\u001b[0;36m1\u001b[0m\u001b[0;34m,\u001b[0m\u001b[0;36m2\u001b[0m\u001b[0;34m)\u001b[0m\u001b[0;34m\u001b[0m\u001b[0;34m\u001b[0m\u001b[0m\n\u001b[1;32m      2\u001b[0m \u001b[0mb\u001b[0m \u001b[0;34m=\u001b[0m \u001b[0mPoint\u001b[0m\u001b[0;34m(\u001b[0m\u001b[0;36m3\u001b[0m\u001b[0;34m,\u001b[0m\u001b[0;36m4\u001b[0m\u001b[0;34m)\u001b[0m\u001b[0;34m\u001b[0m\u001b[0;34m\u001b[0m\u001b[0m\n\u001b[0;32m----> 3\u001b[0;31m \u001b[0ma\u001b[0m \u001b[0;34m+\u001b[0m \u001b[0mb\u001b[0m\u001b[0;34m\u001b[0m\u001b[0;34m\u001b[0m\u001b[0m\n\u001b[0m",
      "\u001b[0;31mTypeError\u001b[0m: unsupported operand type(s) for +: 'Point' and 'Point'"
     ]
    }
   ],
   "source": [
    "a = Point(1,2)\n",
    "b = Point(3,4)\n",
    "a + b"
   ]
  },
  {
   "cell_type": "code",
   "execution_count": 42,
   "id": "dominican-brave",
   "metadata": {},
   "outputs": [],
   "source": [
    "class Point:\n",
    "    def __init__(self, xcoord=0, ycoord=0):\n",
    "        'initialize coordinates to (xcoord, ycoord)'\n",
    "        self.x = xcoord\n",
    "        self.y = ycoord\n",
    "\n",
    "    def setx(self, xcoord):\n",
    "        'set x coordinate of point to xcoord'\n",
    "        self.x = xcoord\n",
    "\n",
    "    def sety(self, ycoord):\n",
    "        'set y coordinate of point to ycoord'\n",
    "        self.y = ycoord\n",
    "\n",
    "    def get(self):\n",
    "        'return coordinates of the point as a tuple'\n",
    "        return (self.x, self.y)\n",
    "\n",
    "    def move(self, dx, dy):\n",
    "        'change the x and y coordinates by dx and dy'\n",
    "        self.x += dx\n",
    "        self.y += dy\n",
    "        \n",
    "    def __repr__(self):\n",
    "        'canonical string representation Point(x, y)'\n",
    "        return 'Point({}, {})'.format(self.x, self.y)\n",
    "    \n",
    "    def __add__(self, point):\n",
    "        return Point(self.x+point.x, self.y+point.y)"
   ]
  },
  {
   "cell_type": "code",
   "execution_count": 43,
   "id": "buried-third",
   "metadata": {},
   "outputs": [
    {
     "data": {
      "text/plain": [
       "Point(4, 6)"
      ]
     },
     "execution_count": 43,
     "metadata": {},
     "output_type": "execute_result"
    }
   ],
   "source": [
    "a = Point(1,2)\n",
    "b = Point(3,4)\n",
    "a + b"
   ]
  },
  {
   "cell_type": "markdown",
   "id": "rolled-picnic",
   "metadata": {},
   "source": [
    "### Overloading operator `len()`"
   ]
  },
  {
   "cell_type": "code",
   "execution_count": 44,
   "id": "amber-undergraduate",
   "metadata": {},
   "outputs": [],
   "source": [
    "class Queue:\n",
    "    'a classic queue class'\n",
    "\n",
    "    def __init__(self):\n",
    "        'instantiates an empty list'\n",
    "        self.q = []\n",
    "\n",
    "    def isEmpty(self):\n",
    "        'returns True if queue is empty, False otherwise'\n",
    "        return (len(self.q) == 0)\n",
    "\n",
    "    def enqueue (self, item):\n",
    "        'insert item at rear of queue'\n",
    "        return self.q.append(item)\n",
    "\n",
    "    def dequeue(self):\n",
    "        'remove and return item at front of queue'\n",
    "        return self.q.pop(0)"
   ]
  },
  {
   "cell_type": "code",
   "execution_count": 45,
   "id": "another-excuse",
   "metadata": {},
   "outputs": [
    {
     "ename": "TypeError",
     "evalue": "object of type 'Queue' has no len()",
     "output_type": "error",
     "traceback": [
      "\u001b[0;31m---------------------------------------------------------------------------\u001b[0m",
      "\u001b[0;31mTypeError\u001b[0m                                 Traceback (most recent call last)",
      "\u001b[0;32m<ipython-input-45-b9803d7979c9>\u001b[0m in \u001b[0;36m<module>\u001b[0;34m\u001b[0m\n\u001b[1;32m      2\u001b[0m \u001b[0mappts\u001b[0m\u001b[0;34m.\u001b[0m\u001b[0menqueue\u001b[0m\u001b[0;34m(\u001b[0m\u001b[0;34m'John'\u001b[0m\u001b[0;34m)\u001b[0m\u001b[0;34m\u001b[0m\u001b[0;34m\u001b[0m\u001b[0m\n\u001b[1;32m      3\u001b[0m \u001b[0mappts\u001b[0m\u001b[0;34m.\u001b[0m\u001b[0menqueue\u001b[0m\u001b[0;34m(\u001b[0m\u001b[0;34m'Sandy'\u001b[0m\u001b[0;34m)\u001b[0m\u001b[0;34m\u001b[0m\u001b[0;34m\u001b[0m\u001b[0m\n\u001b[0;32m----> 4\u001b[0;31m \u001b[0mlen\u001b[0m\u001b[0;34m(\u001b[0m\u001b[0mappts\u001b[0m\u001b[0;34m)\u001b[0m\u001b[0;34m\u001b[0m\u001b[0;34m\u001b[0m\u001b[0m\n\u001b[0m",
      "\u001b[0;31mTypeError\u001b[0m: object of type 'Queue' has no len()"
     ]
    }
   ],
   "source": [
    "appts = Queue()\n",
    "appts.enqueue('John')\n",
    "appts.enqueue('Sandy')\n",
    "len(appts)"
   ]
  },
  {
   "cell_type": "code",
   "execution_count": 46,
   "id": "representative-costa",
   "metadata": {},
   "outputs": [],
   "source": [
    "class Queue:\n",
    "    'a classic queue class'\n",
    "\n",
    "    def __init__(self):\n",
    "        'instantiates an empty list'\n",
    "        self.q = []\n",
    "\n",
    "    def isEmpty(self):\n",
    "        'returns True if queue is empty, False otherwise'\n",
    "        return (len(self.q) == 0)\n",
    "\n",
    "    def enqueue (self, item):\n",
    "        'insert item at rear of queue'\n",
    "        return self.q.append(item)\n",
    "\n",
    "    def dequeue(self):\n",
    "        'remove and return item at front of queue'\n",
    "        return self.q.pop(0)\n",
    "    \n",
    "    def __len__(self):\n",
    "        return len(self.q)"
   ]
  },
  {
   "cell_type": "code",
   "execution_count": 47,
   "id": "behavioral-toner",
   "metadata": {},
   "outputs": [
    {
     "data": {
      "text/plain": [
       "2"
      ]
     },
     "execution_count": 47,
     "metadata": {},
     "output_type": "execute_result"
    }
   ],
   "source": [
    "appts = Queue()\n",
    "appts.enqueue('John')\n",
    "appts.enqueue('Sandy')\n",
    "len(appts)"
   ]
  },
  {
   "cell_type": "markdown",
   "id": "lesbian-estimate",
   "metadata": {},
   "source": [
    "### Overloading operator `==`"
   ]
  },
  {
   "cell_type": "code",
   "execution_count": 48,
   "id": "running-writer",
   "metadata": {},
   "outputs": [
    {
     "data": {
      "text/plain": [
       "False"
      ]
     },
     "execution_count": 48,
     "metadata": {},
     "output_type": "execute_result"
    }
   ],
   "source": [
    "a = Point(3,5)\n",
    "b = Point(3,5)\n",
    "a == b"
   ]
  },
  {
   "cell_type": "code",
   "execution_count": 49,
   "id": "conservative-office",
   "metadata": {},
   "outputs": [],
   "source": [
    "class Point:\n",
    "    def __init__(self, xcoord=0, ycoord=0):\n",
    "        'initialize coordinates to (xcoord, ycoord)'\n",
    "        self.x = xcoord\n",
    "        self.y = ycoord\n",
    "\n",
    "    def setx(self, xcoord):\n",
    "        'set x coordinate of point to xcoord'\n",
    "        self.x = xcoord\n",
    "\n",
    "    def sety(self, ycoord):\n",
    "        'set y coordinate of point to ycoord'\n",
    "        self.y = ycoord\n",
    "\n",
    "    def get(self):\n",
    "        'return coordinates of the point as a tuple'\n",
    "        return (self.x, self.y)\n",
    "\n",
    "    def move(self, dx, dy):\n",
    "        'change the x and y coordinates by dx and dy'\n",
    "        self.x += dx\n",
    "        self.y += dy\n",
    "        \n",
    "    def __repr__(self):\n",
    "        'canonical string representation Point(x, y)'\n",
    "        return 'Point({}, {})'.format(self.x, self.y)\n",
    "    \n",
    "    def __add__(self, point):\n",
    "        return Point(self.x+point.x, self.y+point.y)\n",
    "    \n",
    "    def __eq__(self, other):\n",
    "        'self == other if they have the same coordinates'\n",
    "        return self.x == other.x and self.y == other.y"
   ]
  },
  {
   "cell_type": "code",
   "execution_count": 50,
   "id": "flexible-formation",
   "metadata": {},
   "outputs": [
    {
     "data": {
      "text/plain": [
       "True"
      ]
     },
     "execution_count": 50,
     "metadata": {},
     "output_type": "execute_result"
    }
   ],
   "source": [
    "a = Point(3,5)\n",
    "b = Point(3,5)\n",
    "a == b"
   ]
  },
  {
   "cell_type": "markdown",
   "id": "alien-occasion",
   "metadata": {},
   "source": [
    "## Inheritance"
   ]
  },
  {
   "attachments": {},
   "cell_type": "markdown",
   "id": "chicken-string",
   "metadata": {},
   "source": [
    "* Code reuse is a key software engineering goal.\n",
    "    * One benefit of functions is they make it easier to reuse code.\n",
    "    * Similarly, organizing code into user-defined classes make it easier to later reuse code.\n",
    "    * E.g., classes `Card` and `Deck` can be reused in different card game apps.\n",
    "* A class can also be reused by extending it through **inheritance**.\n",
    "* Example, suppose that we find it convenient to have a class that behaves just like the built-in class `list` but also supports a method called `choice()` that returns an item from the list, chosen uniformly at random.\n",
    "    * we can develop class `MyList` by **inheritance** from class `list`.\n",
    "    * the Class `MyList` inherits all the attributes of class `list`.\n"
   ]
  },
  {
   "cell_type": "code",
   "execution_count": 51,
   "id": "piano-compatibility",
   "metadata": {},
   "outputs": [],
   "source": [
    "import random\n",
    "class MyList(list):\n",
    "    'a subclass of list that implements method choice'\n",
    "\n",
    "    def choice(self):\n",
    "        'return item from list chosen uniformly at random'\n",
    "        return random.choice(self)"
   ]
  },
  {
   "cell_type": "code",
   "execution_count": 52,
   "id": "modern-armstrong",
   "metadata": {},
   "outputs": [
    {
     "name": "stdout",
     "output_type": "stream",
     "text": [
      "The length of list is : 4\n",
      "The index of element 5 is : 2\n",
      "Random choose an element: 3\n",
      "Random choose an element: 5\n",
      "Random choose an element: 3\n"
     ]
    }
   ],
   "source": [
    "mylst = MyList()\n",
    "mylst.append(2)\n",
    "mylst.append(3)\n",
    "mylst.append(5)\n",
    "mylst.append(7)\n",
    "print('The length of list is : {}'.format(len(mylst)))\n",
    "print('The index of element 5 is : {}'.format(mylst.index(5)))\n",
    "print('Random choose an element: {}'.format(mylst.choice()))\n",
    "print('Random choose an element: {}'.format(mylst.choice()))\n",
    "print('Random choose an element: {}'.format(mylst.choice()))"
   ]
  },
  {
   "cell_type": "markdown",
   "id": "radio-neutral",
   "metadata": {},
   "source": [
    "Class `MyList` inherits all the attributes of class `list` with additional method `choice`"
   ]
  },
  {
   "cell_type": "code",
   "execution_count": 53,
   "id": "classified-college",
   "metadata": {},
   "outputs": [
    {
     "data": {
      "text/plain": [
       "['__add__',\n",
       " '__class__',\n",
       " '__contains__',\n",
       " '__delattr__',\n",
       " '__delitem__',\n",
       " '__dict__',\n",
       " '__dir__',\n",
       " '__doc__',\n",
       " '__eq__',\n",
       " '__format__',\n",
       " '__ge__',\n",
       " '__getattribute__',\n",
       " '__getitem__',\n",
       " '__gt__',\n",
       " '__hash__',\n",
       " '__iadd__',\n",
       " '__imul__',\n",
       " '__init__',\n",
       " '__init_subclass__',\n",
       " '__iter__',\n",
       " '__le__',\n",
       " '__len__',\n",
       " '__lt__',\n",
       " '__module__',\n",
       " '__mul__',\n",
       " '__ne__',\n",
       " '__new__',\n",
       " '__reduce__',\n",
       " '__reduce_ex__',\n",
       " '__repr__',\n",
       " '__reversed__',\n",
       " '__rmul__',\n",
       " '__setattr__',\n",
       " '__setitem__',\n",
       " '__sizeof__',\n",
       " '__str__',\n",
       " '__subclasshook__',\n",
       " '__weakref__',\n",
       " 'append',\n",
       " 'choice',\n",
       " 'clear',\n",
       " 'copy',\n",
       " 'count',\n",
       " 'extend',\n",
       " 'index',\n",
       " 'insert',\n",
       " 'pop',\n",
       " 'remove',\n",
       " 'reverse',\n",
       " 'sort']"
      ]
     },
     "execution_count": 53,
     "metadata": {},
     "output_type": "execute_result"
    }
   ],
   "source": [
    "dir(MyList)"
   ]
  },
  {
   "cell_type": "markdown",
   "id": "registered-alfred",
   "metadata": {},
   "source": [
    "#  Class definition, in general\n"
   ]
  },
  {
   "attachments": {},
   "cell_type": "markdown",
   "id": "inappropriate-inspection",
   "metadata": {},
   "source": [
    "* A class can be defined “from scratch” using: `class <Class Name>:`\n",
    "* A class can also be derived from another class, through inheritance : `class <Class Name> (<Super Class>):`\n",
    "* `class <Class Name>:` is shorthand for `class <Class Name>(object):`\n",
    "* `object` is a built-in class with no attributes; it is the class that all classes inherit from, directly or indirectly.\n",
    "* A class can also inherit attributes from more than one superclass: `class <Class Name>(<Super Class 1>, <Super Class 2>, ...)`"
   ]
  },
  {
   "cell_type": "markdown",
   "id": "incorporated-advantage",
   "metadata": {},
   "source": [
    "## Overriding superclass methods"
   ]
  },
  {
   "cell_type": "markdown",
   "id": "demographic-revolution",
   "metadata": {},
   "source": [
    "* Sometimes we need to develop new class that can almost inherit attributes from an existing class … but not quite.\n",
    "* For example, a class `Bird` that supports the same methods class `Animal` supports (`setSpecies()`, `setLanguage()` and `speak()`) but with a different behavior for method `speak()`.\n"
   ]
  },
  {
   "cell_type": "code",
   "execution_count": 54,
   "id": "coastal-copying",
   "metadata": {},
   "outputs": [],
   "source": [
    "class Animal:\n",
    "    'represents an animal'\n",
    "\n",
    "    def __init__(self, species='animal', language='make sounds'):\n",
    "        self.species = species\n",
    "        self.language = language\n",
    "        \n",
    "    def setSpecies(self, species):\n",
    "        'sets the animal species'\n",
    "        self.species = species\n",
    "\n",
    "    def setLanguage(self, language):\n",
    "        'sets the animal language'\n",
    "        self.language = language\n",
    "\n",
    "    def speak(self):\n",
    "        'prints a sentence by the animal'\n",
    "        print('I am a {} and I {}.'.format(self.species, self.language))\n",
    "        \n",
    "class Bird(Animal):\n",
    "    'represents a bird'\n",
    "\n",
    "    def speak(self): #override speak()\n",
    "        'prints bird sounds'\n",
    "        print('{}! '.format(self.language) * 3)"
   ]
  },
  {
   "cell_type": "code",
   "execution_count": 55,
   "id": "secure-inspector",
   "metadata": {},
   "outputs": [
    {
     "name": "stdout",
     "output_type": "stream",
     "text": [
      "I am a bird and I tweet.\n"
     ]
    }
   ],
   "source": [
    "tweetyAnimal = Animal('bird','tweet')\n",
    "tweetyAnimal.speak()"
   ]
  },
  {
   "cell_type": "code",
   "execution_count": 56,
   "id": "piano-patrick",
   "metadata": {},
   "outputs": [
    {
     "name": "stdout",
     "output_type": "stream",
     "text": [
      "tweet! tweet! tweet! \n"
     ]
    }
   ],
   "source": [
    "tweetyBird = Bird('bird','tweet')\n",
    "tweetyBird.speak()"
   ]
  },
  {
   "attachments": {},
   "cell_type": "markdown",
   "id": "considered-acrobat",
   "metadata": {},
   "source": [
    "## Extending Superclass Method\n",
    "A superclass method can be inherited as-is, overridden or extended.\n"
   ]
  },
  {
   "cell_type": "code",
   "execution_count": 57,
   "id": "solar-montana",
   "metadata": {},
   "outputs": [],
   "source": [
    "class Super:\n",
    "    'a generic class with one method'\n",
    "    def method(self):                     # the Super method\n",
    "        print('in Super.method')\n",
    "\n",
    "class Inheritor(Super):\n",
    "    'class that inherits method'\n",
    "    pass\n",
    "\n",
    "class Replacer(Super):                  # override Super class method\n",
    "    'class that overrides method'\n",
    "    def method(self):\n",
    "        print('in Replacer.method')\n",
    "\n",
    "class Extender(Super):                 # extend Super class method\n",
    "    'class that extends method'\n",
    "    def method(self):\n",
    "        print('starting Extender.method')\n",
    "        Super.method(self)                # calling Super method\n",
    "        print('ending Extender.method')"
   ]
  },
  {
   "cell_type": "markdown",
   "id": "fancy-prerequisite",
   "metadata": {},
   "source": [
    "Animal and Bird Example"
   ]
  },
  {
   "cell_type": "code",
   "execution_count": 58,
   "id": "precise-chest",
   "metadata": {},
   "outputs": [],
   "source": [
    "class Animal:\n",
    "    'represents an animal'\n",
    "\n",
    "    def __init__(self, species='animal', language='make sounds'):\n",
    "        self.species = species\n",
    "        self.language = language\n",
    "        \n",
    "    def setSpecies(self, species):\n",
    "        'sets the animal species'\n",
    "        self.species = species\n",
    "\n",
    "    def setLanguage(self, language):\n",
    "        'sets the animal language'\n",
    "        self.language = language\n",
    "\n",
    "    def speak(self):\n",
    "        'prints a sentence by the animal'\n",
    "        print('I am a {} and I {}.'.format(self.species, self.language))\n",
    "        \n",
    "class Bird(Animal):\n",
    "    'represents a bird'\n",
    "\n",
    "    def speak(self): #extend speak()\n",
    "        'prints bird sounds'\n",
    "        super().speak() #equivalent to Animal.speak(self)\n",
    "        print('{}! '.format(self.language) * 3)"
   ]
  },
  {
   "cell_type": "code",
   "execution_count": 59,
   "id": "complimentary-animation",
   "metadata": {},
   "outputs": [
    {
     "name": "stdout",
     "output_type": "stream",
     "text": [
      "I am a bird and I tweet.\n",
      "tweet! tweet! tweet! \n"
     ]
    }
   ],
   "source": [
    "tweetyBird = Bird('bird','tweet')\n",
    "tweetyBird.speak()"
   ]
  }
 ],
 "metadata": {
  "kernelspec": {
   "display_name": "Python 3",
   "language": "python",
   "name": "python3"
  },
  "language_info": {
   "codemirror_mode": {
    "name": "ipython",
    "version": 3
   },
   "file_extension": ".py",
   "mimetype": "text/x-python",
   "name": "python",
   "nbconvert_exporter": "python",
   "pygments_lexer": "ipython3",
   "version": "3.8.5"
  }
 },
 "nbformat": 4,
 "nbformat_minor": 5
}
