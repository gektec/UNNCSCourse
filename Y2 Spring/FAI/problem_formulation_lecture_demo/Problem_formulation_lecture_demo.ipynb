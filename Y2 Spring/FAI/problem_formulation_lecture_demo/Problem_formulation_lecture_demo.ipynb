{
 "cells": [
  {
   "cell_type": "markdown",
   "metadata": {},
   "source": [
    "# 1. Grid navigating problem sample\n",
    "\n",
    "Navigating a robot through a grid from a start point to a goal point. This problem involves defining an initial state, possible actions, a goal test, and a path cost function.\n",
    "\n",
    "* **Initial State**: The location of the robot on the grid (e.g., the bottom-left corner, represented as (0, 0)).\n",
    "* **Actions**: The set of moves the robot can make at any point, typically Up, Down, Left, and Right.\n",
    "* **Goal Test**: A function to determine if the robot has reached its goal location (e.g., the top-right corner of the grid).\n",
    "* **Path Cost**: A function that assigns a cost to a path. In the simplest case, this could be the number of moves made from the initial state to the goal.\n",
    "<img style=\"float: centre;\" src=\"grid.jpg\" width=\"40%\"> \n",
    "\n",
    "## 1.1 Formulat the Grid navigating problem"
   ]
  },
  {
   "cell_type": "code",
   "execution_count": 1,
   "metadata": {},
   "outputs": [],
   "source": [
    "# Define the grid size\n",
    "grid_size = (5, 5)  # 5x5 grid\n",
    "\n",
    "# Initial and goal states\n",
    "initial_state = (0, 0)\n",
    "goal_state = (4, 4)\n",
    "\n",
    "# Actions defined as vectors: (row_change, column_change)\n",
    "actions = [(-1, 0), (1, 0), (0, -1), (0, 1)]  # down,up,left,right\n",
    "\n",
    "# Goal test function\n",
    "def is_goal(state):\n",
    "    return state == goal_state\n",
    "\n",
    "# Generate successor states\n",
    "def get_successors(state):\n",
    "    successors = []\n",
    "    for action in actions:\n",
    "        new_state = (state[0] + action[0], state[1] + action[1]) # Apply action\n",
    "        if 0 <= new_state[0] < grid_size[0] and 0 <= new_state[1] < grid_size[1]:  # Check if new state is within the grid\n",
    "            successors.append(new_state) # Add new state to the list of successors\n",
    "    return successors\n",
    "\n",
    "# Action cost function\n",
    "def action_cost(start_state, action, end_state):\n",
    "    \"\"\"Return the cost of moving from start_state to end_state given an action.\"\"\"\n",
    "    # In this simple grid navigation problem, every move has a uniform cost.\n",
    "    return 1"
   ]
  },
  {
   "cell_type": "code",
   "execution_count": 4,
   "metadata": {},
   "outputs": [
    {
     "name": "stdout",
     "output_type": "stream",
     "text": [
      "[(1, 1), (0, 0), (0, 2)]\n"
     ]
    }
   ],
   "source": [
    "print(get_successors((0,1)))"
   ]
  },
  {
   "cell_type": "markdown",
   "metadata": {},
   "source": [
    "## 1.2 Testing the Grid Navigating porblem functions:"
   ]
  },
  {
   "cell_type": "code",
   "execution_count": null,
   "metadata": {},
   "outputs": [],
   "source": [
    "# Test the goal test function\n",
    "print(is_goal((4, 4))) # True\n",
    "print(is_goal((0, 0)))  # False\n",
    "\n",
    "# Test the get_successors function\n",
    "print(get_successors((0, 0)))   # find the successors of the state (0, 0)\n",
    "print(get_successors((4, 4)))   # find the successors of the state (4, 4)\n",
    "print(get_successors((2, 2)))   # find the successors of the state (2, 2) \n",
    "\n",
    "# Test the action cost function\n",
    "midle_state = (2, 2) # start state\n",
    "move_left = (0, -1) # action\n",
    "result_move = (midle_state[0] + move_left[0], midle_state[1] + move_left[1]) # end state\n",
    "print(action_cost(midle_state, move_left, result_move)) # cost of the action"
   ]
  },
  {
   "cell_type": "markdown",
   "metadata": {},
   "source": [
    "# 2. Water Pouring Problem\n",
    "\n",
    "In a [water pouring problem](https://en.wikipedia.org/wiki/Water_pouring_puzzle) you are given a collection of jugs, each of which has a size (capacity) in, say, litres, and a current level of water (in litres). The goal is to measure out a certain level of water; it can appear in any of the bucket.  A state is represented by a tuple of current water levels, and the available actions are:\n",
    "- `(Fill, i)`: fill the `i`th bucket all the way to the top (from a tap with unlimited water).\n",
    "- `(Pour, i, j)`: pour water from the `i`th bucket into the `j`th bucjet until either the bucket `i` is empty, or bucket `j` is full, whichever comes first.\n",
    "<img style=\"float: centre;\" src=\"bucket.jpg\" width=\"30%\"> \n",
    "\n",
    "## 2.1 Formulat the Water Pouring problem"
   ]
  },
  {
   "cell_type": "code",
   "execution_count": null,
   "metadata": {},
   "outputs": [],
   "source": [
    "# initial and goal states\n",
    "problem = {\n",
    "    'initial': (0, 0, 0),  # initial state\n",
    "    'goal': 7,  # the goal is to have 7 liters of water in any of the buckets\n",
    "    'sizes': (3, 5, 9)  # the sizes of the buckets\n",
    "} # a dictionary that represents a specific instance of a pour problem. \n",
    "\n",
    "def is_goal(state, problem):\n",
    "    return problem['goal'] in state\n",
    "\n",
    "# get the acitions of the input state\n",
    "def get_actions(state, problem):\n",
    "    buckets = range(len(state)) \n",
    "    return ([('Fill', i)    for i in buckets if state[i] < problem['sizes'][i]] +      # fill i  \n",
    "            [('Pour', i, j) for i in buckets if state[i] for j in buckets if i != j]) # pour from i to j\n",
    "\n",
    "# get the successor states of the input state\n",
    "def get_successors(state, action, problem):   \n",
    "    result = list(state) # convert the state to a list\n",
    "    act, i, *_ = action  # divide the action into act, i, j, where i and j are the buckets \n",
    "   \n",
    "    if act == 'Fill':  \n",
    "        result[i] = problem['sizes'][i] # fill the bucket i\n",
    "    elif act == 'Pour': \n",
    "        j = action[2] # get the second bucket\n",
    "        amount = min(state[i], problem['sizes'][j] - state[j])  # get the amount of water to pour\n",
    "        result[i] -= amount # remove the amount of water from the first bucket\n",
    "        result[j] += amount # add the amount of water to the second bucket\n",
    "    return tuple(result) # convert the result to a tuple\n",
    "\n",
    "\n",
    "def action_cost(start_state, action, end_state): \n",
    "    return 1"
   ]
  },
  {
   "cell_type": "markdown",
   "metadata": {},
   "source": [
    "## 2.2 Testing the Water Pouring functions"
   ]
  },
  {
   "cell_type": "code",
   "execution_count": null,
   "metadata": {},
   "outputs": [],
   "source": [
    "# Test the goal test function\n",
    "print(is_goal((0, 0, 0), problem)) # False\n",
    "print(is_goal((0, 3, 7), problem)) # True\n",
    "\n",
    "# Test the get_actions function\n",
    "print(get_actions((0, 0, 0), problem)) # [('Fill', 0), ('Fill', 1), ('Fill', 2)]\n",
    "print(get_actions((0, 3, 2), problem)) # [('Fill', 0), ('Pour', 1, 0), ('Pour', 2, 0), ('Pour', 2, 1)]\n",
    "\n",
    "# Test the get_successors function\n",
    "print(get_successors((0, 0, 0), ('Fill', 0), problem)) # (3, 0, 0)\n",
    "print(get_successors((0, 3, 2), ('Pour', 1, 0), problem)) # (3,0,2）\n",
    "\n",
    "# Test the action cost function\n",
    "start_state = (0, 0, 0)\n",
    "test_action = ('Fill', 0)\n",
    "end_state = get_successors(start_state, test_action, problem)\n",
    "print(action_cost(start_state, test_action, end_state)) "
   ]
  },
  {
   "cell_type": "code",
   "execution_count": null,
   "metadata": {},
   "outputs": [],
   "source": []
  }
 ],
 "metadata": {
  "kernelspec": {
   "display_name": "Python 3",
   "language": "python",
   "name": "python3"
  },
  "language_info": {
   "codemirror_mode": {
    "name": "ipython",
    "version": 3
   },
   "file_extension": ".py",
   "mimetype": "text/x-python",
   "name": "python",
   "nbconvert_exporter": "python",
   "pygments_lexer": "ipython3",
   "version": "3.11.6"
  }
 },
 "nbformat": 4,
 "nbformat_minor": 4
}
